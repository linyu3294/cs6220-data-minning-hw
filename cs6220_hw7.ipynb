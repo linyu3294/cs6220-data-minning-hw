{
  "nbformat": 4,
  "nbformat_minor": 0,
  "metadata": {
    "colab": {
      "name": "cs6220_hw7.ipynb",
      "provenance": [],
      "collapsed_sections": [],
      "toc_visible": true,
      "machine_shape": "hm",
      "mount_file_id": "1k9o2tdjVlQUXaJg9fFcjlwvJ35JXLuzh",
      "authorship_tag": "ABX9TyPZTFRj86Kjhx+CFLj5AR+j",
      "include_colab_link": true
    },
    "kernelspec": {
      "display_name": "Python 3",
      "name": "python3"
    }
  },
  "cells": [
    {
      "cell_type": "markdown",
      "metadata": {
        "id": "view-in-github",
        "colab_type": "text"
      },
      "source": [
        "<a href=\"https://colab.research.google.com/github/linyu3294/cs6220-data-minning-hw/blob/main/cs6220_hw7.ipynb\" target=\"_parent\"><img src=\"https://colab.research.google.com/assets/colab-badge.svg\" alt=\"Open In Colab\"/></a>"
      ]
    },
    {
      "cell_type": "markdown",
      "metadata": {
        "id": "IMTmxPOBRTIY"
      },
      "source": [
        "\n",
        "# **HW7** **Social Graphs, Recommendation Systems**\n",
        "\n",
        "Make sure you check the syllabus for the due date. Please use the notations adopted in class, even if the problem is stated in the book using a different notation.\n",
        "\n",
        "We are not looking for very long answers (if you find yourself writing more than one or two pages of typed text per problem, you are probably on the wrong track). Try to be concise; also keep in mind that good ideas and explanations matter more than exact details.\n",
        "\n",
        "Submit all code files Dropbox (create folder HW1 or similar name). Results can be pdf or txt files, including plots/tabels if any.\n",
        "\"Paper\" exercises: submit using Dropbox as pdf, either typed or scanned handwritten."
      ]
    },
    {
      "cell_type": "markdown",
      "metadata": {
        "id": "ayxwJvCKwrsF"
      },
      "source": [
        "---\n",
        "DATATSET MovieLens 100K Ratings https://grouplens.org/datasets/movielens/100k/\n",
        "\n",
        "DATATSET Netflix Prize ratings Dataset https://www.kaggle.com/netflix-inc/netflix-prize-data\n",
        "\n",
        "DATATSET Friendster Social Graph http://socialcomputing.asu.edu/datasets/Friendster\n",
        "\n",
        "DATATSET Flicker Social Graph http://networkrepository.com/soc-Flickr-ASU.php, but use the one curated in DM resources\n"
      ]
    },
    {
      "cell_type": "markdown",
      "metadata": {
        "id": "uTn6OYMg-fHB"
      },
      "source": [
        "\n",
        "---\n",
        "## **PROBLEM 1: Recommender System using Collaborative Filtering**\n",
        "Implement a Movie Recommendation System and run it on the Movie Lens Dataset (Train vs Test). Mesure performance on test set using RMSE\n",
        "\n",
        ">First you are required to compute first a user-user similarity based on ratings and movies in common\n",
        "\n",
        "\n",
        "\n"
      ]
    },
    {
      "cell_type": "code",
      "metadata": {
        "id": "2iH_fheWoDIw"
      },
      "source": [
        "/content/drive/MyDrive/NEU ALIGN CS Masters/CS6220 Data Mining/Colab Notebooks/ml-100k"
      ],
      "execution_count": null,
      "outputs": []
    },
    {
      "cell_type": "markdown",
      "metadata": {
        "id": "Xc1AAYVXcRbE"
      },
      "source": [
        "\n",
        "\n"
      ]
    },
    {
      "cell_type": "code",
      "metadata": {
        "id": "ByhZdZYCcfd9"
      },
      "source": [
        ""
      ],
      "execution_count": null,
      "outputs": []
    },
    {
      "cell_type": "markdown",
      "metadata": {
        "id": "v8Pxh6UGcgYu"
      },
      "source": [
        ""
      ]
    },
    {
      "cell_type": "code",
      "metadata": {
        "id": "0b56-6GPTKys"
      },
      "source": [
        "import numpy as np\n",
        "\n",
        "movies = []\n",
        "users = dict()\n",
        "ratings = dict()\n",
        "num_of_movies = 1682\n",
        "num_of_users = 943\n",
        "\n",
        "raw_data = dict()\n",
        "path = '/content/drive/MyDrive/NEU ALIGN CS Masters/CS6220 Data Mining/Colab Notebooks/ml-100k/u.data'\n",
        "with open(path, 'r') as file:\n",
        "    lines = file.read().splitlines()\n",
        "\n",
        "    for line in lines:\n",
        "      user_id = int(line.split('\\t') [0]) - 1\n",
        "      movie_id = int(line.split('\\t')[1]) - 1 \n",
        "      rating = int(line.split('\\t')[2])\n",
        "    \n",
        "      user_ratings = users.get(user_id, [])\n",
        "      user_ratings.append((movie_id, rating))\n",
        "      users[user_id] = user_ratings\n",
        "  \n",
        "\n",
        "      \n",
        "total = 0\n",
        "for i in range(len(users)):\n",
        "  ratings = [component[1] for component in users[i]]\n",
        "  ratings_sum = np.sum(ratings)\n",
        "  avg_rating = ratings_sum/len(ratings)\n",
        "  user_variance = (ratings_sum**2 / len(ratings) ) - avg_rating**2\n",
        "  normalized_ratings = [(r[0],(r[1] - avg_rating) / user_variance) for r in users[i]]\n",
        "  users[i] = normalized_ratings\n",
        "\n",
        "users_similarity = []\n",
        "\n",
        "for u in (range(len(users))):\n",
        "  temp_list = []\n",
        "  u_common_rum = []\n",
        "  v_common_run = []\n",
        "  for v in (range(len(users))):\n",
        "    if (users[u][0]==user[v][0])\n",
        "      u_common_rum.append(users[u][1])\n",
        "      v_common_rum.append(users[v][1])\n",
        "    similarity = "
      ],
      "execution_count": null,
      "outputs": []
    },
    {
      "cell_type": "markdown",
      "metadata": {
        "id": "UjaSYgMtO5YG"
      },
      "source": [
        "---\n",
        ">Second, make rating predictions on the test set followoing the KNN idea: a prediction (user, movie) is the weighted average of other users' rating for the movie, weighted by user-similarity to the given user."
      ]
    },
    {
      "cell_type": "markdown",
      "metadata": {
        "id": "0f1YxC41_SR_"
      },
      "source": [
        "---\n",
        "## **PROBLEM 2: EXTRA CREDIT Netflix Recommendations**\n",
        "\n",
        "\n",
        "Implement a recommender system on the Netflix Prize Dataset. Use the \"probe\" set for testing. For a compettitive systems, one need to add movie content features such as actors, genres, directors, music, etc. These features are not available from Netflix, but for some movies they have been crawled by Movie Title form other websites such as IMDB (for example \"movie_details.xml\" file in DM_resources, but you can get more such features on your own.)\n",
        "\n"
      ]
    },
    {
      "cell_type": "markdown",
      "metadata": {
        "id": "solnvyj__vEK"
      },
      "source": [
        "---\n",
        "## **PROBLEM 3: Social Community Detection**\n",
        "\n",
        "Implement a community detection algorithm on the Flicker Graph. Use the betweenes idea on edges and the Girvan–Newman Algorithm. The original dataset graph has more than 5M edges; in DM_resources there are 4 different sub-sampled graphs with edge counts from 2K to 600K; you can use these if the original is too big.\n",
        "\n",
        "You should use a library to support graph operations (edges, vertices, paths, degrees, etc). We used igraph in python which also have builtin community detection algorithms (not allowed); these are useful as a way to evaluate communities you obtain\n",
        "\n",
        "```\n",
        "https://igraph.org/\n",
        "```"
      ]
    },
    {
      "cell_type": "markdown",
      "metadata": {
        "id": "WVAhs1LbABKr"
      },
      "source": [
        "\n",
        "---\n",
        "## **PROBLEM 4: Knowledge Base Question Answering** ##\n",
        "\n",
        "Given is knowledge graph with entities and relations, questions with starting entity and answers, and their word embedding . For each question, navigate the graph from the start entiry outwards until you find appropriate answer entities.\n",
        "- there might be multiple answers correct, use F1 to evaluate\n",
        "- utils functions (similarity, load_graphs) are given, but you can choose not to use them\n",
        "- answers are given to be used for evaluation only\n",
        "- your strategy should be a graph traversal augmented with scoring of paths; you might discard paths not promising along the way. This is similar to a focused crawl strategy.\n",
        "- for simplicity, the questions are picked so that the answer is always at the end of the relevant path (not intermediary)\n",
        "\n"
      ]
    }
  ]
}