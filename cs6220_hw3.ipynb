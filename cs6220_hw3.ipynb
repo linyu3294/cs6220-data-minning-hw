{
  "nbformat": 4,
  "nbformat_minor": 0,
  "metadata": {
    "colab": {
      "name": "cs6220_hw3.ipynb",
      "provenance": [],
      "collapsed_sections": [],
      "authorship_tag": "ABX9TyNUaYlK9nj2tYdNZGbb8Xw7",
      "include_colab_link": true
    },
    "kernelspec": {
      "name": "python3",
      "display_name": "Python 3"
    }
  },
  "cells": [
    {
      "cell_type": "markdown",
      "metadata": {
        "id": "view-in-github",
        "colab_type": "text"
      },
      "source": [
        "<a href=\"https://colab.research.google.com/github/linyu3294/cs6220-data-minning-hw/blob/main/cs6220_hw3.ipynb\" target=\"_parent\"><img src=\"https://colab.research.google.com/assets/colab-badge.svg\" alt=\"Open In Colab\"/></a>"
      ]
    },
    {
      "cell_type": "markdown",
      "metadata": {
        "id": "65Zz8_imLU_p"
      },
      "source": [
        "\n",
        "---\n",
        "## **PROBLEM 1: DBSCAN on toy-neighborhood data**\n",
        "\n",
        "You are to cluster, and visualize, a small dataset using DBSCAN epsilon = 7.5, MinPts = 3). \n",
        "\n",
        "You have been provided a file, dbscan.csv, that has the following columns for each point in the dataset:\n",
        "*   cluster originally empty, provided for your convenience pt a unique id for each data point\n",
        "*  x point x-coordinate\n",
        "*  y point y-coordinate\n",
        "*   num neighbors number of neighbors, according to the coordinates above neighbors the id’s of all neighbors within\n",
        "\n",
        "As you can see, a tedious O(n^2) portion of the work has been done for you. \n",
        "\n",
        "Your job is to execute, point-by-point, the DBSCAN algorithm, logging your work.\n",
        "\n"
      ]
    },
    {
      "cell_type": "code",
      "metadata": {
        "id": "_Vh33AvsK-d7"
      },
      "source": [
        ""
      ],
      "execution_count": null,
      "outputs": []
    },
    {
      "cell_type": "markdown",
      "metadata": {
        "id": "H1DiqXf4Lvql"
      },
      "source": [
        "---\n",
        "\n",
        "## **PROBLEM 2: DBSCAN on toy raw data**\n",
        "\n",
        "Three toy 2D datasets are provided (or they can be obtained easily with scikit learn) circles; blobs, and moons. Run your own implementaion of DBSCAN on these, in two phases."
      ]
    },
    {
      "cell_type": "markdown",
      "metadata": {
        "id": "myi_0jiGQHMG"
      },
      "source": [
        "---\n",
        "### **Section A**\n",
        "Run your own implementaion of DBSCAN on CIRCLES, in two phases."
      ]
    },
    {
      "cell_type": "code",
      "metadata": {
        "id": "GFzIlsc9MW6_"
      },
      "source": [
        ""
      ],
      "execution_count": null,
      "outputs": []
    },
    {
      "cell_type": "markdown",
      "metadata": {
        "id": "wXupnGtYQUET"
      },
      "source": [
        "\n",
        "---\n",
        "### **Section B**\n",
        "Run your own implementaion of DBSCAN on BLOBS, in two phases."
      ]
    },
    {
      "cell_type": "code",
      "metadata": {
        "id": "V6YOdFJsQZyc"
      },
      "source": [
        ""
      ],
      "execution_count": null,
      "outputs": []
    },
    {
      "cell_type": "markdown",
      "metadata": {
        "id": "aY0fdgZlQarY"
      },
      "source": [
        "\n",
        "---\n",
        "### **Section C**\n",
        "Run your own implementaion of DBSCAN on MOON, in two phases."
      ]
    },
    {
      "cell_type": "code",
      "metadata": {
        "id": "5jFfE7LLQecc"
      },
      "source": [
        ""
      ],
      "execution_count": null,
      "outputs": []
    },
    {
      "cell_type": "markdown",
      "metadata": {
        "id": "D_7ssvjQMX9j"
      },
      "source": [
        "---\n",
        "\n",
        "## **PROBLEM 3: DBSCAN on real data**\n",
        "Run the DBSCAN algorithm on the 20NG dataset, and on the FASHION dataset, and the HouseHold dataset (see papers), and evaluate results. \n",
        "\n",
        "You need to implement both phases (1) neighborhoods creation, (2) DBSCAN.\n",
        "\n",
        "Explain why/when it works, and speculate why/when not. \n",
        "\n",
        "You need to do trial and error for parameters epsilon and MinPts\n",
        "\n",
        "\n",
        "\n",
        "\n",
        "*   DBSCAN Revisited, Revisited: Why and How You Should (Still) Use DBSCAN\n",
        "http://www.ccs.neu.edu/home/vip/teach/DMcourse/2_cluster_EM_mixt/notes_slides/revisitofrevisitDBSCAN.pdf\n",
        "\n",
        "*   DBSCAN Revisited:Mis-Claim, Un-Fixability, and Approximation\n",
        "http://www.ccs.neu.edu/home/vip/teach/DMcourse/2_cluster_EM_mixt/notes_slides/sigmod15-dbscan.pdf\n",
        "\n",
        "EXTRA CREDIT: Using class labels (cheating), try to remove/add points in curate the set for better DBSCAN runs"
      ]
    },
    {
      "cell_type": "code",
      "metadata": {
        "id": "RXZP26omOiJ7"
      },
      "source": [
        ""
      ],
      "execution_count": null,
      "outputs": []
    },
    {
      "cell_type": "markdown",
      "metadata": {
        "id": "6gIbaaFdOi3d"
      },
      "source": [
        "---\n",
        "\n",
        "## **PROBLEM 4: Hierarchical Clustering**\n",
        "\n",
        "Use a library to execute hierarchical clustering on MNIST dataset, evaluate the clusters."
      ]
    }
  ]
}