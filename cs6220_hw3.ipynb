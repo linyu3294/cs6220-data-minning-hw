{
  "nbformat": 4,
  "nbformat_minor": 0,
  "metadata": {
    "colab": {
      "name": "cs6220_hw3.ipynb",
      "provenance": [],
      "collapsed_sections": [],
      "machine_shape": "hm",
      "mount_file_id": "1aLnXeBUgD55bK67OypJoKrqSOiBrQgrt",
      "authorship_tag": "ABX9TyM5jfZwrlA7SC8A9XeHzdim",
      "include_colab_link": true
    },
    "kernelspec": {
      "name": "python3",
      "display_name": "Python 3"
    }
  },
  "cells": [
    {
      "cell_type": "markdown",
      "metadata": {
        "id": "view-in-github",
        "colab_type": "text"
      },
      "source": [
        "<a href=\"https://colab.research.google.com/github/linyu3294/cs6220-data-minning-hw/blob/main/cs6220_hw3.ipynb\" target=\"_parent\"><img src=\"https://colab.research.google.com/assets/colab-badge.svg\" alt=\"Open In Colab\"/></a>"
      ]
    },
    {
      "cell_type": "markdown",
      "metadata": {
        "id": "2UEEB-uegm6Q"
      },
      "source": [
        "---\n",
        "## **DBSCAN Implementation**\n"
      ]
    },
    {
      "cell_type": "markdown",
      "metadata": {
        "id": "hH16_MQ9nv3J"
      },
      "source": [
        "Parse training data"
      ]
    },
    {
      "cell_type": "code",
      "metadata": {
        "id": "RKhMHmj7tjlv"
      },
      "source": [
        "import numpy as np\n",
        "from sklearn.metrics.pairwise import euclidean_distances as dist\n"
      ],
      "execution_count": 2,
      "outputs": []
    },
    {
      "cell_type": "code",
      "metadata": {
        "id": "IsyfILIenwIP"
      },
      "source": [
        "def parse_data (infile, columns) -> np.array : \n",
        "  infile = open(infile, \"r\")\n",
        "  all_data = infile.read()\n",
        "  lines = all_data.splitlines()[1:]\n",
        "\n",
        "  dataset = []\n",
        "  for line in lines:\n",
        "    if line:\n",
        "      features = line.split(',')\n",
        "      datapoint_vector = []\n",
        "      for c in columns:\n",
        "        feature = float(features[c].strip('\\'').strip('\\\"'))      \n",
        "        datapoint_vector.append(feature)\n",
        "          \n",
        "      dataset.append(datapoint_vector)\n",
        "\n",
        "  return np.array(dataset)"
      ],
      "execution_count": 3,
      "outputs": []
    },
    {
      "cell_type": "markdown",
      "metadata": {
        "id": "l4wx49S6g4ld"
      },
      "source": [
        "Neighbour Discovery with $O(n^2)$ complexity"
      ]
    },
    {
      "cell_type": "code",
      "metadata": {
        "id": "llMuNrbfgmjv"
      },
      "source": [
        "def neighbours_discovery(dataset, epsilon) -> list :\n",
        "  # distances matrix should be len(dataset) by len(dataset)\n",
        "  distances = dist(dataset, dataset)\n",
        "  # neigbours is a list of all neighbours \n",
        "  neighbours = []\n",
        "  for i in range(dataset.shape[0]):\n",
        "    data_i_neighbours = []\n",
        "    for j in range(dataset.shape[0]):\n",
        "      if distances[i][j] < epsilon:\n",
        "        data_i_neighbours.append(j)\n",
        "    neighbours.append(data_i_neighbours)\n",
        "  return [distances, neighbours]"
      ],
      "execution_count": 4,
      "outputs": []
    },
    {
      "cell_type": "markdown",
      "metadata": {
        "id": "SgjXjnMWnu1v"
      },
      "source": [
        "Use BFS to cluster"
      ]
    },
    {
      "cell_type": "code",
      "metadata": {
        "id": "xBwZVatOnudM"
      },
      "source": [
        "def bfs_dbscan ( neighbours, minPT) -> dict:\n",
        "  scan ={\n",
        "        'clusters': [], # a list of a list of datapoints\n",
        "        'visited': set(), # a new set\n",
        "        'noise': set() # non-leaf datapoints that don't have enough neighbours\n",
        "    }  \n",
        "  queue = set()\n",
        "  visited = scan['visited']\n",
        "  clusters = scan['clusters']\n",
        "  noise = scan['noise']\n",
        "\n",
        "  while (len(visited) != len(neighbours)):\n",
        "    start = next(iter(set(range(0, len(neighbours))) - visited))\n",
        "    queue.add(start)\n",
        "    cluster = set()\n",
        "\n",
        "    while (len(queue)!= 0):\n",
        "      node = queue.pop()\n",
        "      visited.add(node) ; cluster.add(node)\n",
        "      for n in neighbours[node]:\n",
        "        if (len(neighbours[n])>=minPT and (n not in visited)): \n",
        "          queue.add(n)\n",
        "        else: \n",
        "          visited.add(n) ; cluster.add(n)\n",
        "      if (len(queue) == 0 and len(cluster)>1) : clusters.append(cluster)\n",
        "      elif (len(queue) == 0 and len(cluster)==1) : noise.update(cluster)\n",
        "\n",
        "  return scan"
      ],
      "execution_count": 5,
      "outputs": []
    },
    {
      "cell_type": "markdown",
      "metadata": {
        "id": "HssAwFVaqXKj"
      },
      "source": [
        "Running DBScan on Toy Data Set"
      ]
    },
    {
      "cell_type": "markdown",
      "metadata": {
        "id": "65Zz8_imLU_p"
      },
      "source": [
        "\n",
        "---\n",
        "## **PROBLEM 1: DBSCAN on toy-neighborhood data**\n",
        "\n",
        "You are to cluster, and visualize, a small dataset using DBSCAN epsilon = 7.5, MinPts = 3). \n",
        "\n",
        "You have been provided a file, dbscan.csv, that has the following columns for each point in the dataset:\n",
        "*   cluster originally empty, provided for your convenience pt a unique id for each data point\n",
        "*  x point x-coordinate\n",
        "*  y point y-coordinate\n",
        "*   num neighbors number of neighbors, according to the coordinates above neighbors the id’s of all neighbors within\n",
        "\n",
        "As you can see, a tedious O(n^2) portion of the work has been done for you. \n",
        "\n",
        "Your job is to execute, point-by-point, the DBSCAN algorithm, logging your work.\n",
        "\n"
      ]
    },
    {
      "cell_type": "code",
      "metadata": {
        "colab": {
          "base_uri": "https://localhost:8080/"
        },
        "id": "Wn8mzI-0qV1r",
        "outputId": "aa7eb75d-005d-4cc8-8697-9bdeb270e0eb"
      },
      "source": [
        "dataset = parse_data('/content/drive/MyDrive/NEU ALIGN CS Masters/CS6220 Data Mining/Colab Notebooks/dbscan.csv', [2,3])\n",
        "\n",
        "epsilon = 7.5\n",
        "\n",
        "discovery = neighbours_discovery(dataset, epsilon)\n",
        "distances = discovery[0]\n",
        "neighbours = discovery[1]\n",
        "\n",
        "toy_scan = bfs_dbscan(neighbours, minPT=3)\n",
        "visited = toy_scan['visited']\n",
        "clusters = toy_scan['clusters']\n",
        "noise = toy_scan['noise']\n",
        "\n",
        "print(clusters)"
      ],
      "execution_count": null,
      "outputs": [
        {
          "output_type": "stream",
          "text": [
            "[{0, 27}, {1, 66, 4, 40, 75, 12, 56, 28}, {5, 6, 8, 10, 11, 14, 16, 17, 19, 20, 21, 22, 25, 26, 29, 30, 31, 32, 34, 37, 38, 39, 42, 45, 46, 47, 48, 49, 50, 52, 53, 54, 60, 63, 64, 67, 68, 69, 70, 71, 72, 74, 76}, {9, 78, 33}, {51, 13}, {35, 62}, {59, 43}, {77, 55}]\n"
          ],
          "name": "stdout"
        }
      ]
    },
    {
      "cell_type": "code",
      "metadata": {
        "colab": {
          "base_uri": "https://localhost:8080/",
          "height": 265
        },
        "id": "ZHu_8Q6LQup-",
        "outputId": "fdeeb1f0-ff8e-4d57-84c4-4836b49e5363"
      },
      "source": [
        "import matplotlib.pyplot as plt\n",
        "import itertools\n",
        "\n",
        "for cluster in clusters:\n",
        "  c =  np.random.rand(len(clusters),3)\n",
        "  c = c[np.random.choice(len(c))]\n",
        "  for datapoint in cluster:\n",
        "    x = dataset[datapoint][0]\n",
        "    y = dataset[datapoint][1]\n",
        "    plt.scatter(x, y, color = c)\n",
        "\n",
        "c = c[np.random.choice(len(c))]\n",
        "for ns in noise:\n",
        "  x = dataset[ns][0]\n",
        "  y = dataset[ns][1]\n",
        "  plt.scatter(x, y, c)"
      ],
      "execution_count": null,
      "outputs": [
        {
          "output_type": "display_data",
          "data": {
            "image/png": "[encoded data removed]",
            "text/plain": [
              "<Figure size 432x288 with 1 Axes>"
            ]
          },
          "metadata": {
            "tags": [],
            "needs_background": "light"
          }
        }
      ]
    },
    {
      "cell_type": "markdown",
      "metadata": {
        "id": "H1DiqXf4Lvql"
      },
      "source": [
        "---\n",
        "\n",
        "## **PROBLEM 2: DBSCAN on toy raw data**\n",
        "\n",
        "Three toy 2D datasets are provided (or they can be obtained easily with scikit learn) circles; blobs, and moons. Run your own implementaion of DBSCAN on these, in two phases."
      ]
    },
    {
      "cell_type": "markdown",
      "metadata": {
        "id": "myi_0jiGQHMG"
      },
      "source": [
        "---\n",
        "### **Section A**\n",
        "Run your own implementaion of DBSCAN on CIRCLES, in two phases."
      ]
    },
    {
      "cell_type": "code",
      "metadata": {
        "id": "GFzIlsc9MW6_"
      },
      "source": [
        "dataset = parse_data('/content/drive/MyDrive/NEU ALIGN CS Masters/CS6220 Data Mining/Colab Notebooks/circle.csv', [0,1])\n",
        "\n",
        "epsilon = 0.1\n",
        "discovery = neighbours_discovery(dataset, epsilon)\n",
        "distances = discovery[0]\n",
        "neighbours = discovery[1]\n",
        "\n"
      ],
      "execution_count": null,
      "outputs": []
    },
    {
      "cell_type": "code",
      "metadata": {
        "colab": {
          "base_uri": "https://localhost:8080/",
          "height": 302
        },
        "id": "NexKLNSjpw_H",
        "outputId": "560e0bf9-d77f-49ca-c608-ad779fa9f083"
      },
      "source": [
        "toy_scan = bfs_dbscan(neighbours, minPT=3)\n",
        "visited = toy_scan['visited']\n",
        "clusters = toy_scan['clusters']\n",
        "noise = toy_scan['noise']\n",
        "print(clusters)\n",
        "\n",
        "\n",
        "for cluster in clusters:\n",
        "  c =  np.random.rand(len(clusters),3)\n",
        "  c = c[np.random.choice(len(c))]\n",
        "  for datapoint in cluster:\n",
        "    x = dataset[datapoint][0]\n",
        "    y = dataset[datapoint][1]\n",
        "    plt.scatter(x, y, color = c)\n",
        "\n",
        "c = c[np.random.choice(len(c))]\n",
        "for ns in noise:\n",
        "  x = dataset[ns][0]\n",
        "  y = dataset[ns][1]\n",
        "  plt.scatter(x, y, c)"
      ],
      "execution_count": null,
      "outputs": [
        {
          "output_type": "stream",
          "text": [
            "[{0, 1, 3, 4, 5, 9, 11, 12, 14, 16, 24, 25, 28, 30, 31, 32, 33, 35, 36, 38, 41, 42, 43, 45, 46, 49, 54, 55, 58, 60, 61, 67, 69, 70, 72, 74, 77, 78, 79, 83, 84, 85, 87, 89, 92, 94, 96, 99, 100, 101, 103, 105, 106, 107, 108, 111, 113, 116, 119, 120, 121, 123, 125, 128, 129, 131, 132, 133, 134, 135, 138, 139, 141, 142, 153, 154, 155, 158, 160, 161, 162, 163, 164, 167, 170, 171, 173, 175, 177, 178, 180, 181, 184, 185, 186, 188, 190, 191, 194, 195, 196, 198, 200, 201, 203, 204, 205, 206, 207, 208, 209, 211, 213, 214, 215, 219, 220, 221, 222, 226, 227, 230, 232, 233, 236, 238, 240, 244, 249, 251, 253, 255, 256, 258, 260, 261, 264, 265, 266, 270, 271, 274, 275, 276, 277, 280, 283, 284, 286, 287, 290, 292, 293, 294, 296, 297, 306, 307, 309, 310, 311, 312, 314, 321, 322, 327, 329, 330, 331, 333, 337, 339, 340, 349, 351, 353, 354, 355, 357, 358, 366, 370, 373, 376, 377, 380, 383, 384, 385, 386, 389, 390, 393, 398, 400, 402, 404, 405, 408, 409, 410, 412, 413, 420, 421, 423, 425, 426, 429, 430, 433, 434, 438, 439, 440, 442, 445, 446, 449, 450, 451, 453, 456, 459, 460, 464, 466, 467, 469, 470, 471, 474, 475, 481, 485, 488, 489, 490, 491, 492, 493, 495, 498, 500, 502, 505, 507, 508, 514, 515, 516, 517, 519, 523, 527, 528, 530, 531, 535, 540, 541, 542, 543, 545, 547, 549, 550, 554, 555, 556, 557, 558, 560, 562, 565, 566, 569, 573, 574, 577, 578, 581, 582, 583, 584, 586, 589, 590, 592, 593, 594, 597, 600, 601, 602, 603, 604, 605, 607, 608, 609, 613, 614, 616, 618, 620, 621, 622, 624, 625, 628, 630, 632, 633, 634, 635, 636, 637, 638, 639, 640, 647, 648, 650, 652, 653, 655, 656, 657, 658, 661, 662, 663, 667, 668, 669, 670, 674, 676, 680, 681, 682, 684, 685, 686, 687, 688, 689, 691, 694, 695, 698, 703, 704, 705, 710, 711, 712, 713, 717, 719, 721, 722, 724, 730, 733, 735, 739, 740, 741, 742, 743, 744, 745, 747, 748, 749, 750, 751, 753, 756, 757, 758, 759, 760, 761, 762, 763, 764, 765, 771, 778, 780, 781, 782, 783, 784, 789, 790, 792, 793, 801, 802, 803, 805, 807, 809, 811, 815, 822, 823, 824, 827, 828, 832, 833, 835, 836, 841, 845, 847, 850, 852, 855, 856, 858, 859, 863, 865, 866, 868, 872, 873, 875, 876, 878, 880, 883, 884, 886, 888, 889, 891, 892, 894, 896, 898, 900, 902, 906, 907, 908, 910, 914, 916, 921, 922, 925, 929, 931, 932, 934, 935, 937, 940, 942, 943, 946, 947, 948, 949, 950, 954, 956, 957, 958, 961, 964, 965, 966, 968, 969, 971, 972, 973, 974, 975, 978, 980, 983, 986, 987, 988, 990, 993, 994, 995, 997, 998, 999}, {2, 6, 7, 8, 10, 13, 15, 17, 18, 19, 20, 21, 22, 23, 26, 27, 29, 34, 37, 39, 40, 44, 47, 48, 50, 51, 52, 53, 56, 57, 59, 62, 63, 64, 65, 66, 68, 71, 73, 75, 76, 80, 81, 82, 86, 88, 90, 91, 93, 95, 97, 98, 102, 104, 109, 110, 112, 114, 115, 117, 118, 122, 124, 126, 127, 130, 136, 137, 140, 143, 144, 145, 146, 147, 148, 149, 150, 151, 152, 156, 157, 159, 165, 166, 168, 169, 172, 174, 176, 179, 182, 183, 187, 189, 192, 193, 197, 199, 202, 210, 212, 216, 217, 218, 223, 224, 225, 228, 229, 231, 234, 235, 237, 239, 241, 242, 243, 245, 246, 247, 248, 250, 252, 254, 257, 259, 262, 263, 267, 268, 269, 272, 273, 278, 279, 281, 282, 285, 288, 289, 291, 295, 298, 299, 300, 301, 302, 303, 304, 305, 308, 313, 315, 316, 317, 318, 319, 320, 323, 324, 325, 326, 328, 332, 334, 335, 336, 338, 341, 342, 343, 344, 345, 346, 347, 348, 350, 352, 356, 359, 360, 361, 362, 363, 364, 365, 367, 368, 369, 371, 372, 374, 375, 378, 379, 381, 382, 387, 388, 391, 392, 394, 395, 396, 397, 399, 401, 403, 406, 407, 411, 414, 415, 416, 417, 418, 419, 422, 424, 427, 428, 431, 432, 435, 436, 437, 441, 443, 444, 447, 448, 452, 454, 455, 457, 458, 461, 462, 463, 465, 468, 472, 473, 476, 477, 478, 479, 480, 482, 483, 484, 486, 487, 494, 496, 497, 499, 501, 503, 504, 506, 509, 510, 511, 512, 513, 518, 520, 521, 522, 524, 525, 526, 529, 532, 533, 534, 536, 537, 538, 539, 544, 546, 548, 551, 552, 553, 559, 561, 563, 564, 567, 568, 570, 571, 572, 575, 576, 579, 580, 585, 587, 588, 591, 595, 596, 598, 599, 606, 610, 611, 612, 615, 617, 619, 623, 626, 627, 629, 631, 641, 642, 643, 644, 645, 646, 649, 651, 654, 659, 660, 664, 665, 666, 671, 672, 673, 675, 677, 678, 679, 683, 690, 692, 693, 696, 697, 699, 700, 701, 702, 706, 707, 708, 709, 714, 715, 716, 718, 720, 723, 725, 726, 727, 728, 729, 731, 732, 734, 736, 737, 738, 746, 752, 754, 755, 766, 767, 768, 769, 770, 772, 773, 774, 775, 776, 777, 779, 785, 786, 787, 788, 791, 794, 795, 796, 797, 798, 799, 800, 804, 806, 808, 810, 812, 813, 814, 816, 817, 818, 819, 820, 821, 825, 826, 829, 830, 831, 834, 837, 838, 839, 840, 842, 843, 844, 846, 848, 849, 851, 853, 854, 857, 860, 861, 862, 864, 867, 869, 870, 871, 874, 877, 879, 881, 882, 885, 887, 890, 893, 895, 897, 899, 901, 903, 904, 905, 909, 911, 912, 913, 915, 917, 918, 919, 920, 923, 924, 926, 927, 928, 930, 933, 936, 938, 939, 941, 944, 945, 951, 952, 953, 955, 959, 960, 962, 963, 967, 970, 976, 977, 979, 981, 982, 984, 985, 989, 991, 992, 996}]\n"
          ],
          "name": "stdout"
        },
        {
          "output_type": "display_data",
          "data": {
            "image/png": "[encoded data removed]",
            "text/plain": [
              "<Figure size 432x288 with 1 Axes>"
            ]
          },
          "metadata": {
            "tags": [],
            "needs_background": "light"
          }
        }
      ]
    },
    {
      "cell_type": "markdown",
      "metadata": {
        "id": "wXupnGtYQUET"
      },
      "source": [
        "\n",
        "---\n",
        "### **Section B**\n",
        "Run your own implementaion of DBSCAN on BLOBS, in two phases."
      ]
    },
    {
      "cell_type": "code",
      "metadata": {
        "id": "V6YOdFJsQZyc"
      },
      "source": [
        "dataset = parse_data('/content/drive/MyDrive/NEU ALIGN CS Masters/CS6220 Data Mining/Colab Notebooks/blobs.csv', [0,1])\n",
        "\n",
        "epsilon = 0.4\n",
        "discovery = neighbours_discovery(dataset, epsilon)\n",
        "distances = discovery[0]\n",
        "neighbours = discovery[1]\n"
      ],
      "execution_count": null,
      "outputs": []
    },
    {
      "cell_type": "code",
      "metadata": {
        "colab": {
          "base_uri": "https://localhost:8080/",
          "height": 302
        },
        "id": "d_3rhI2w52Mx",
        "outputId": "96c16f75-d0dd-4415-aa9e-cb248d7cd458"
      },
      "source": [
        "toy_scan = bfs_dbscan(neighbours, minPT=3)\n",
        "visited = toy_scan['visited']\n",
        "clusters = toy_scan['clusters']\n",
        "noise = toy_scan['noise']\n",
        "print(clusters)\n",
        "\n",
        "\n",
        "for cluster in clusters:\n",
        "  c =  np.random.rand(len(clusters),3)\n",
        "  c = c[np.random.choice(len(c))]\n",
        "  for datapoint in cluster:\n",
        "    x = dataset[datapoint][0]\n",
        "    y = dataset[datapoint][1]\n",
        "    plt.scatter(x, y, color = c)\n",
        "\n",
        "c = c[np.random.choice(len(c))]\n",
        "for ns in noise:\n",
        "  x = dataset[ns][0]\n",
        "  y = dataset[ns][1]\n",
        "  plt.scatter(x, y, c)"
      ],
      "execution_count": null,
      "outputs": [
        {
          "output_type": "stream",
          "text": [
            "[{0, 3, 4, 5, 7, 8, 10, 11, 12, 15, 16, 19, 20, 21, 22, 23, 24, 26, 30, 34, 36, 39, 40, 41, 42, 43, 44, 46, 48, 49, 50, 51, 54, 55, 56, 57, 59, 63, 64, 67, 69, 71, 73, 75, 76, 77, 78, 79, 83, 84, 85, 86, 90, 96, 97, 99, 100, 101, 102, 105, 106, 108, 109, 111, 113, 115, 118, 120, 121, 123, 124, 129, 131, 132, 133, 138, 140, 142, 144, 145, 147, 152, 153, 154, 155, 157, 166, 168, 169, 171, 173, 174, 175, 176, 177, 179, 180, 185, 186, 187, 189, 190, 191, 192, 194, 195, 196, 197, 199, 203, 204, 205, 206, 207, 208, 217, 218, 219, 221, 223, 225, 227, 228, 231, 233, 237, 242, 243, 245, 246, 247, 250, 251, 252, 253, 254, 255, 257, 259, 261, 262, 269, 270, 272, 276, 279, 282, 288, 289, 291, 292, 293, 294, 295, 296, 298, 300, 303, 304, 306, 309, 311, 313, 314, 315, 316, 322, 324, 330, 332, 333, 339, 341, 342, 343, 345, 350, 352, 354, 357, 358, 359, 361, 367, 370, 371, 377, 378, 382, 383, 384, 385, 387, 388, 393, 394, 396, 402, 404, 405, 406, 409, 410, 411, 412, 415, 416, 417, 419, 421, 422, 423, 426, 427, 428, 429, 430, 431, 434, 439, 440, 441, 442, 444, 446, 448, 449, 450, 451, 452, 454, 455, 457, 458, 461, 463, 465, 467, 471, 476, 479, 480, 481, 482, 483, 484, 490, 491, 492, 496, 498, 500, 501, 504, 506, 509, 511, 512, 514, 517, 518, 522, 523, 524, 525, 527, 528, 530, 531, 532, 537, 539, 541, 548, 549, 550, 551, 552, 555, 556, 558, 561, 562, 564, 565, 568, 572, 574, 575, 577, 578, 583, 585, 588, 589, 592, 593, 594, 596, 600, 601, 604, 605, 610, 611, 612, 614, 617, 618, 619, 623, 624, 625, 626, 629, 631, 632, 635, 636, 637, 638, 640, 641, 642, 643, 644, 646, 648, 650, 651, 653, 654, 655, 657, 661, 662, 663, 665, 666, 668, 670, 671, 677, 679, 681, 683, 684, 685, 686, 687, 688, 690, 691, 692, 693, 697, 698, 703, 705, 710, 711, 712, 716, 720, 721, 723, 724, 725, 728, 729, 730, 731, 732, 733, 734, 735, 741, 744, 745, 748, 750, 751, 753, 759, 764, 765, 767, 770, 772, 773, 774, 775, 776, 779, 783, 787, 789, 790, 791, 792, 794, 795, 801, 803, 805, 807, 809, 810, 811, 815, 821, 823, 824, 826, 828, 830, 832, 836, 840, 843, 847, 850, 851, 853, 854, 855, 856, 857, 858, 859, 860, 866, 867, 868, 869, 871, 872, 874, 876, 877, 880, 883, 884, 890, 893, 895, 897, 901, 906, 910, 913, 914, 915, 917, 918, 919, 921, 924, 925, 926, 930, 932, 933, 934, 935, 942, 943, 949, 950, 952, 953, 954, 956, 959, 964, 968, 969, 973, 976, 978, 980, 982, 986, 991, 992, 995, 996, 997, 998, 999, 1000, 1001, 1002, 1006, 1007, 1011, 1012, 1015, 1016, 1017, 1018, 1020, 1021, 1022, 1023, 1025, 1026, 1027, 1028, 1030, 1031, 1032, 1036, 1038, 1040, 1041, 1042, 1043, 1044, 1045, 1046, 1047, 1048, 1049, 1050, 1057, 1058, 1059, 1067, 1070, 1075, 1078, 1079, 1080, 1081, 1082, 1083, 1084, 1085, 1091, 1093, 1094, 1097, 1098, 1101, 1102, 1103, 1107, 1108, 1109, 1111, 1112, 1113, 1114, 1115, 1117, 1119, 1120, 1121, 1124, 1125, 1128, 1132, 1133, 1135, 1136, 1137, 1138, 1139, 1142, 1143, 1144, 1147, 1149, 1150, 1151, 1152, 1153, 1154, 1155, 1158, 1159, 1160, 1166, 1167, 1168, 1169, 1170, 1174, 1175, 1176, 1177, 1178, 1182, 1183, 1184, 1187, 1188, 1189, 1190, 1191, 1192, 1193, 1197, 1198, 1199, 1200, 1201, 1202, 1204, 1205, 1206, 1216, 1219, 1220, 1222, 1223, 1224, 1230, 1231, 1233, 1240, 1242, 1246, 1247, 1251, 1253, 1258, 1261, 1262, 1263, 1269, 1270, 1273, 1276, 1277, 1280, 1281, 1282, 1283, 1284, 1285, 1286, 1293, 1296, 1299, 1301, 1303, 1304, 1306, 1309, 1310, 1311, 1313, 1314, 1316, 1317, 1318, 1320, 1321, 1323, 1325, 1327, 1329, 1330, 1332, 1338, 1342, 1343, 1344, 1345, 1346, 1347, 1349, 1350, 1354, 1356, 1357, 1358, 1360, 1361, 1362, 1369, 1374, 1378, 1379, 1384, 1385, 1388, 1389, 1390, 1392, 1396, 1397, 1399, 1407, 1408, 1409, 1410, 1413, 1415, 1416, 1421, 1424, 1426, 1428, 1431, 1432, 1433, 1434, 1437, 1438, 1439, 1442, 1443, 1445, 1449, 1450, 1452, 1453, 1454, 1455, 1456, 1458, 1459, 1460, 1462, 1463, 1466, 1467, 1469, 1473, 1474, 1476, 1477, 1480, 1481, 1483, 1484, 1487, 1488, 1489, 1491, 1492, 1493, 1495, 1496, 1497, 1498, 1499}, {1, 2, 6, 9, 13, 14, 17, 18, 25, 27, 28, 29, 31, 32, 33, 35, 37, 38, 45, 47, 52, 53, 58, 60, 61, 62, 65, 66, 68, 70, 72, 74, 80, 81, 82, 87, 88, 89, 91, 92, 93, 94, 95, 98, 103, 104, 107, 110, 112, 114, 116, 117, 119, 122, 125, 126, 127, 128, 130, 134, 135, 136, 137, 139, 141, 143, 146, 148, 149, 150, 151, 156, 158, 159, 160, 161, 162, 163, 164, 165, 167, 170, 172, 178, 181, 182, 183, 184, 188, 193, 198, 200, 201, 202, 209, 210, 211, 212, 213, 214, 215, 216, 220, 222, 224, 226, 229, 230, 232, 234, 235, 236, 238, 239, 240, 241, 244, 248, 249, 256, 258, 260, 263, 264, 265, 266, 267, 268, 271, 273, 274, 275, 277, 278, 280, 281, 283, 284, 285, 286, 287, 290, 297, 299, 301, 302, 305, 307, 308, 310, 312, 317, 318, 319, 320, 321, 323, 325, 326, 327, 328, 329, 331, 334, 335, 336, 337, 338, 340, 344, 346, 347, 348, 349, 351, 353, 355, 356, 360, 362, 363, 364, 365, 366, 368, 369, 372, 373, 374, 375, 376, 379, 380, 381, 386, 389, 390, 391, 392, 395, 397, 398, 399, 400, 401, 403, 407, 408, 413, 414, 418, 420, 424, 425, 432, 433, 435, 436, 437, 438, 443, 445, 447, 453, 456, 459, 460, 462, 464, 466, 468, 469, 470, 472, 473, 474, 475, 477, 478, 485, 486, 487, 488, 489, 493, 494, 495, 497, 499, 502, 503, 505, 507, 508, 510, 513, 515, 516, 519, 520, 521, 526, 529, 533, 534, 535, 536, 538, 540, 542, 543, 544, 545, 546, 547, 553, 554, 557, 559, 560, 563, 566, 567, 569, 570, 571, 573, 576, 579, 580, 581, 582, 584, 586, 587, 590, 591, 595, 597, 598, 599, 602, 603, 606, 607, 608, 609, 613, 615, 616, 620, 621, 622, 627, 628, 630, 633, 634, 639, 645, 647, 649, 652, 656, 658, 659, 660, 664, 667, 669, 672, 673, 674, 675, 676, 678, 680, 682, 689, 694, 695, 696, 699, 700, 701, 702, 704, 706, 707, 708, 709, 713, 714, 715, 717, 718, 719, 722, 726, 727, 736, 737, 738, 739, 740, 742, 743, 746, 747, 749, 752, 754, 755, 756, 757, 758, 760, 761, 762, 763, 766, 768, 769, 771, 777, 778, 780, 781, 782, 784, 785, 786, 788, 793, 796, 797, 798, 799, 800, 802, 804, 806, 808, 812, 813, 814, 816, 817, 818, 819, 820, 822, 825, 827, 829, 831, 833, 834, 835, 837, 838, 839, 841, 842, 844, 845, 846, 848, 849, 852, 861, 862, 863, 864, 865, 870, 873, 875, 878, 879, 881, 882, 885, 886, 887, 888, 889, 891, 892, 894, 896, 898, 899, 900, 902, 903, 904, 905, 907, 908, 909, 911, 912, 916, 920, 922, 923, 927, 928, 929, 931, 936, 937, 938, 939, 940, 941, 944, 945, 946, 947, 948, 951, 955, 957, 958, 960, 961, 962, 963, 965, 966, 967, 970, 971, 972, 974, 975, 977, 979, 981, 983, 984, 985, 987, 988, 989, 990, 993, 994, 1003, 1004, 1005, 1008, 1009, 1010, 1013, 1014, 1019, 1024, 1029, 1033, 1034, 1035, 1037, 1039, 1051, 1052, 1053, 1054, 1055, 1056, 1060, 1061, 1062, 1063, 1064, 1065, 1066, 1068, 1069, 1071, 1072, 1073, 1074, 1076, 1077, 1086, 1087, 1088, 1089, 1090, 1092, 1095, 1096, 1099, 1100, 1104, 1105, 1106, 1110, 1116, 1118, 1122, 1123, 1126, 1127, 1129, 1130, 1131, 1134, 1140, 1141, 1145, 1146, 1148, 1156, 1157, 1161, 1162, 1163, 1164, 1165, 1171, 1172, 1173, 1179, 1180, 1181, 1185, 1186, 1194, 1195, 1196, 1203, 1207, 1208, 1209, 1210, 1211, 1212, 1213, 1214, 1215, 1217, 1218, 1221, 1225, 1226, 1227, 1228, 1229, 1232, 1234, 1235, 1236, 1237, 1238, 1239, 1241, 1243, 1244, 1245, 1248, 1249, 1250, 1252, 1254, 1255, 1256, 1257, 1259, 1260, 1264, 1265, 1266, 1267, 1268, 1271, 1272, 1274, 1275, 1278, 1279, 1287, 1288, 1289, 1290, 1291, 1292, 1294, 1295, 1297, 1298, 1300, 1302, 1305, 1307, 1308, 1312, 1315, 1319, 1322, 1324, 1326, 1328, 1331, 1333, 1334, 1335, 1336, 1337, 1339, 1340, 1341, 1348, 1351, 1352, 1353, 1355, 1359, 1363, 1364, 1365, 1366, 1367, 1368, 1370, 1371, 1372, 1373, 1375, 1376, 1377, 1380, 1381, 1382, 1383, 1386, 1387, 1391, 1393, 1394, 1395, 1398, 1400, 1401, 1402, 1403, 1404, 1405, 1406, 1411, 1412, 1414, 1417, 1418, 1419, 1420, 1422, 1423, 1425, 1427, 1429, 1430, 1435, 1436, 1440, 1441, 1444, 1446, 1447, 1448, 1451, 1457, 1461, 1464, 1465, 1468, 1470, 1471, 1472, 1475, 1478, 1479, 1482, 1485, 1486, 1490, 1494}]\n"
          ],
          "name": "stdout"
        },
        {
          "output_type": "display_data",
          "data": {
            "image/png": "[encoded data removed]",
            "text/plain": [
              "<Figure size 432x288 with 1 Axes>"
            ]
          },
          "metadata": {
            "tags": [],
            "needs_background": "light"
          }
        }
      ]
    },
    {
      "cell_type": "markdown",
      "metadata": {
        "id": "aY0fdgZlQarY"
      },
      "source": [
        "\n",
        "---\n",
        "### **Section C**\n",
        "Run your own implementaion of DBSCAN on MOON, in two phases."
      ]
    },
    {
      "cell_type": "code",
      "metadata": {
        "id": "5jFfE7LLQecc"
      },
      "source": [
        "dataset = parse_data('/content/drive/MyDrive/NEU ALIGN CS Masters/CS6220 Data Mining/Colab Notebooks/moons.csv', [0,1])\n",
        "\n",
        "epsilon = 0.2\n",
        "discovery = neighbours_discovery(dataset, epsilon)\n",
        "distances = discovery[0]\n",
        "neighbours = discovery[1]"
      ],
      "execution_count": null,
      "outputs": []
    },
    {
      "cell_type": "code",
      "metadata": {
        "colab": {
          "base_uri": "https://localhost:8080/",
          "height": 302
        },
        "id": "E-Il4_wt6usR",
        "outputId": "89f936a1-a778-4247-d6a2-7c95dd2717cc"
      },
      "source": [
        "toy_scan = bfs_dbscan(neighbours, minPT=3)\n",
        "visited = toy_scan['visited']\n",
        "clusters = toy_scan['clusters']\n",
        "noise = toy_scan['noise']\n",
        "print(clusters)\n",
        "\n",
        "\n",
        "for cluster in clusters:\n",
        "  c =  np.random.rand(len(clusters),3)\n",
        "  c = c[np.random.choice(len(c))]\n",
        "  for datapoint in cluster:\n",
        "    x = dataset[datapoint][0]\n",
        "    y = dataset[datapoint][1]\n",
        "    plt.scatter(x, y, color = c)\n",
        "\n",
        "c = c[np.random.choice(len(c))]\n",
        "for ns in noise:\n",
        "  x = dataset[ns][0]\n",
        "  y = dataset[ns][1]\n",
        "  plt.scatter(x, y, c)"
      ],
      "execution_count": null,
      "outputs": [
        {
          "output_type": "stream",
          "text": [
            "[{0, 1, 3, 6, 7, 8, 13, 14, 15, 18, 20, 21, 22, 23, 27, 31, 36, 37, 38, 39, 43, 44, 45, 47, 52, 54, 56, 57, 60, 61, 63, 66, 68, 70, 71, 74, 75, 77, 78, 81, 82, 83, 85, 87, 88, 89, 90, 91, 92, 93, 96, 97, 98, 102, 106, 107, 108, 110, 111, 112, 113, 116, 119, 120, 121, 122, 123, 124, 126, 127, 132, 134, 135, 136, 137, 139, 140, 141, 144, 145, 146, 147, 149, 150, 152, 157, 159, 161, 162, 168, 169, 170, 173, 175, 176, 177, 179, 180, 181, 182, 183, 184, 185, 186, 187, 188, 189, 190, 193, 195, 197, 198, 199, 200, 201, 203, 205, 206, 207, 208, 211, 212, 215, 218, 221, 222, 223, 224, 225, 228, 229, 230, 233, 234, 238, 241, 244, 247, 249, 251, 252, 256, 258, 260, 261, 263, 265, 268, 275, 277, 278, 285, 287, 289, 291, 292, 293, 295, 299, 300, 301, 302, 303, 304, 305, 306, 309, 311, 313, 314, 318, 319, 320, 324, 326, 327, 330, 333, 334, 337, 340, 341, 342, 348, 352, 353, 358, 360, 361, 363, 364, 368, 370, 371, 373, 375, 376, 377, 378, 379, 380, 382, 383, 384, 386, 387, 389, 396, 398, 401, 406, 410, 411, 414, 421, 422, 426, 427, 428, 429, 431, 433, 434, 436, 439, 441, 450, 452, 453, 454, 458, 459, 460, 466, 469, 473, 474, 475, 478, 480, 482, 483, 484, 485, 487, 488, 489, 491, 494, 495, 498, 499, 500, 502, 503, 504, 507, 508, 510, 513, 514, 515, 517, 519, 521, 524, 525, 526, 527, 528, 531, 533, 534, 536, 537, 539, 541, 542, 545, 546, 550, 551, 554, 555, 558, 559, 561, 562, 563, 564, 566, 568, 569, 570, 571, 575, 577, 578, 582, 586, 587, 588, 591, 592, 595, 597, 598, 599, 601, 602, 603, 604, 606, 607, 610, 616, 617, 619, 622, 624, 625, 626, 628, 633, 634, 635, 638, 640, 641, 646, 648, 649, 650, 653, 659, 660, 665, 667, 669, 670, 675, 676, 677, 678, 680, 686, 687, 688, 695, 698, 699, 700, 703, 707, 709, 710, 711, 712, 713, 714, 716, 718, 721, 722, 728, 729, 732, 733, 737, 740, 741, 743, 746, 751, 752, 753, 754, 755, 756, 757, 759, 760, 763, 766, 768, 772, 773, 776, 778, 779, 780, 784, 785, 790, 793, 795, 796, 797, 799, 801, 802, 804, 806, 807, 809, 812, 813, 814, 815, 816, 817, 818, 823, 825, 826, 827, 829, 836, 839, 840, 841, 842, 844, 845, 846, 847, 848, 849, 850, 851, 853, 854, 856, 858, 859, 860, 863, 866, 869, 870, 871, 873, 874, 875, 876, 877, 880, 881, 882, 885, 886, 887, 888, 889, 896, 897, 898, 899, 903, 904, 908, 911, 912, 913, 914, 916, 917, 918, 919, 921, 926, 927, 928, 930, 931, 932, 933, 934, 935, 937, 945, 946, 947, 950, 951, 952, 954, 959, 962, 963, 965, 966, 969, 972, 974, 977, 978, 979, 981, 982, 983, 984, 990, 992, 994, 996, 999, 1002, 1003, 1005, 1006, 1007, 1008, 1009, 1014, 1016, 1017, 1019, 1021, 1022, 1023, 1027, 1030, 1031, 1032, 1033, 1043, 1044, 1048, 1050, 1053, 1054, 1055, 1058, 1059, 1061, 1062, 1064, 1067, 1068, 1071, 1072, 1073, 1074, 1075, 1079, 1080, 1081, 1083, 1089, 1090, 1091, 1092, 1095, 1097, 1098, 1100, 1101, 1102, 1105, 1107, 1108, 1110, 1111, 1112, 1114, 1115, 1116, 1119, 1120, 1124, 1125, 1128, 1129, 1132, 1135, 1137, 1138, 1139, 1140, 1142, 1144, 1148, 1149, 1150, 1151, 1155, 1160, 1161, 1162, 1166, 1171, 1177, 1179, 1183, 1186, 1187, 1188, 1189, 1191, 1193, 1195, 1196, 1202, 1203, 1204, 1205, 1212, 1213, 1214, 1215, 1217, 1219, 1220, 1221, 1224, 1226, 1228, 1232, 1237, 1239, 1240, 1241, 1242, 1243, 1244, 1248, 1250, 1252, 1255, 1256, 1257, 1260, 1261, 1262, 1264, 1265, 1266, 1271, 1273, 1274, 1277, 1279, 1280, 1282, 1288, 1291, 1293, 1297, 1298, 1301, 1304, 1305, 1306, 1308, 1310, 1311, 1313, 1314, 1315, 1316, 1318, 1319, 1320, 1321, 1325, 1329, 1331, 1334, 1337, 1339, 1340, 1343, 1344, 1346, 1347, 1349, 1352, 1354, 1356, 1357, 1358, 1361, 1365, 1367, 1369, 1372, 1379, 1380, 1382, 1383, 1384, 1385, 1387, 1388, 1389, 1390, 1392, 1393, 1394, 1395, 1397, 1399, 1402, 1405, 1407, 1408, 1410, 1423, 1424, 1425, 1426, 1428, 1429, 1430, 1432, 1435, 1436, 1438, 1442, 1443, 1444, 1448, 1450, 1453, 1454, 1455, 1456, 1457, 1458, 1459, 1460, 1461, 1464, 1467, 1471, 1473, 1477, 1479, 1481, 1483, 1484, 1485, 1486, 1487, 1489, 1491, 1492, 1498, 1499}, {2, 4, 5, 9, 10, 11, 12, 16, 17, 19, 24, 25, 26, 28, 29, 30, 32, 33, 34, 35, 40, 41, 42, 46, 48, 49, 50, 51, 53, 55, 58, 59, 62, 64, 65, 67, 69, 72, 73, 76, 79, 80, 84, 86, 94, 95, 99, 100, 101, 103, 104, 105, 109, 114, 115, 117, 118, 125, 128, 129, 130, 131, 133, 138, 142, 143, 148, 151, 153, 154, 155, 156, 158, 160, 163, 164, 165, 166, 167, 171, 172, 174, 178, 191, 192, 194, 196, 202, 204, 209, 210, 213, 214, 216, 217, 219, 220, 226, 227, 231, 232, 235, 236, 237, 239, 240, 242, 243, 245, 246, 248, 250, 253, 254, 255, 257, 259, 262, 264, 266, 267, 269, 270, 271, 272, 273, 274, 276, 279, 280, 281, 282, 283, 284, 286, 288, 290, 294, 296, 297, 298, 307, 308, 310, 312, 315, 316, 317, 321, 322, 323, 325, 328, 329, 331, 332, 335, 336, 338, 339, 343, 344, 345, 346, 347, 349, 350, 351, 354, 355, 356, 357, 359, 362, 365, 366, 367, 369, 372, 374, 381, 385, 388, 390, 391, 392, 393, 394, 395, 397, 399, 400, 402, 403, 404, 405, 407, 408, 409, 412, 413, 415, 416, 417, 418, 419, 420, 423, 424, 425, 430, 432, 435, 437, 438, 440, 442, 443, 444, 445, 446, 447, 448, 449, 451, 455, 456, 457, 461, 462, 463, 464, 465, 467, 468, 470, 471, 472, 476, 477, 479, 481, 486, 490, 492, 493, 496, 497, 501, 505, 506, 509, 511, 512, 516, 518, 520, 522, 523, 529, 530, 532, 535, 538, 540, 543, 544, 547, 548, 549, 552, 553, 556, 557, 560, 565, 567, 572, 573, 574, 576, 579, 580, 581, 583, 584, 585, 589, 590, 593, 594, 596, 600, 605, 608, 609, 611, 612, 613, 614, 615, 618, 620, 621, 623, 627, 629, 630, 631, 632, 636, 637, 639, 642, 643, 644, 645, 647, 651, 652, 654, 655, 656, 657, 658, 661, 662, 663, 664, 666, 668, 671, 672, 673, 674, 679, 681, 682, 683, 684, 685, 689, 690, 691, 692, 693, 694, 696, 697, 701, 702, 704, 705, 706, 708, 715, 717, 719, 720, 723, 724, 725, 726, 727, 730, 731, 734, 735, 736, 738, 739, 742, 744, 745, 747, 748, 749, 750, 758, 761, 762, 764, 765, 767, 769, 770, 771, 774, 775, 777, 781, 782, 783, 786, 787, 788, 789, 791, 792, 794, 798, 800, 803, 805, 808, 810, 811, 819, 820, 821, 822, 824, 828, 830, 831, 832, 833, 834, 835, 837, 838, 843, 852, 855, 857, 861, 862, 864, 865, 867, 868, 872, 878, 879, 883, 884, 890, 891, 892, 893, 894, 895, 900, 901, 902, 905, 906, 907, 909, 910, 915, 920, 922, 923, 924, 925, 929, 936, 938, 939, 940, 941, 942, 943, 944, 948, 949, 953, 955, 956, 957, 958, 960, 961, 964, 967, 968, 970, 971, 973, 975, 976, 980, 985, 986, 987, 988, 989, 991, 993, 995, 997, 998, 1000, 1001, 1004, 1010, 1011, 1012, 1013, 1015, 1018, 1020, 1024, 1025, 1026, 1028, 1029, 1034, 1035, 1036, 1037, 1038, 1039, 1040, 1041, 1042, 1045, 1046, 1047, 1049, 1051, 1052, 1056, 1057, 1060, 1063, 1065, 1066, 1069, 1070, 1076, 1077, 1078, 1082, 1084, 1085, 1086, 1087, 1088, 1093, 1094, 1096, 1099, 1103, 1104, 1106, 1109, 1113, 1117, 1118, 1121, 1122, 1123, 1126, 1127, 1130, 1131, 1133, 1134, 1136, 1141, 1143, 1145, 1146, 1147, 1152, 1153, 1154, 1156, 1157, 1158, 1159, 1163, 1164, 1165, 1167, 1168, 1169, 1170, 1172, 1173, 1174, 1175, 1176, 1178, 1180, 1181, 1182, 1184, 1185, 1190, 1192, 1194, 1197, 1198, 1199, 1200, 1201, 1206, 1207, 1208, 1209, 1210, 1211, 1216, 1218, 1222, 1223, 1225, 1227, 1229, 1230, 1231, 1233, 1234, 1235, 1236, 1238, 1245, 1246, 1247, 1249, 1251, 1253, 1254, 1258, 1259, 1263, 1267, 1268, 1269, 1270, 1272, 1275, 1276, 1278, 1281, 1283, 1284, 1285, 1286, 1287, 1289, 1290, 1292, 1294, 1295, 1296, 1299, 1300, 1302, 1303, 1307, 1309, 1312, 1317, 1322, 1323, 1324, 1326, 1327, 1328, 1330, 1332, 1333, 1335, 1336, 1338, 1341, 1342, 1345, 1348, 1350, 1351, 1353, 1355, 1359, 1360, 1362, 1363, 1364, 1366, 1368, 1370, 1371, 1373, 1374, 1375, 1376, 1377, 1378, 1381, 1386, 1391, 1396, 1398, 1400, 1401, 1403, 1404, 1406, 1409, 1411, 1412, 1413, 1414, 1415, 1416, 1417, 1418, 1419, 1420, 1421, 1422, 1427, 1431, 1433, 1434, 1437, 1439, 1440, 1441, 1445, 1446, 1447, 1449, 1451, 1452, 1462, 1463, 1465, 1466, 1468, 1469, 1470, 1472, 1474, 1475, 1476, 1478, 1480, 1482, 1488, 1490, 1493, 1494, 1495, 1496, 1497}]\n"
          ],
          "name": "stdout"
        },
        {
          "output_type": "display_data",
          "data": {
            "image/png": "[encoded data removed]",
            "text/plain": [
              "<Figure size 432x288 with 1 Axes>"
            ]
          },
          "metadata": {
            "tags": [],
            "needs_background": "light"
          }
        }
      ]
    },
    {
      "cell_type": "markdown",
      "metadata": {
        "id": "D_7ssvjQMX9j"
      },
      "source": [
        "---\n",
        "\n",
        "## **PROBLEM 3: DBSCAN on real data**\n",
        "Run the DBSCAN algorithm on the 20NG dataset, and on the FASHION dataset, and the HouseHold dataset (see papers), and evaluate results. \n",
        "\n",
        "You need to implement both phases (1) neighborhoods creation, (2) DBSCAN.\n",
        "\n",
        "Explain why/when it works, and speculate why/when not. \n",
        "\n",
        "You need to do trial and error for parameters epsilon and MinPts\n",
        "\n",
        "*   DBSCAN Revisited, Revisited: Why and How You Should (Still) Use DBSCAN\n",
        "*   http://www.ccs.neu.edu/home/vip/teach/DMcourse/2_cluster_EM_mixt/notes_slides/revisitofrevisitDBSCAN.pdf\n",
        "*   DBSCAN Revisited:Mis-Claim, Un-Fixability, and Approximation\n",
        "*   http://www.ccs.neu.edu/home/vip/teach/DMcourse/2_cluster_EM_mixt/notes_slides/sigmod15-dbscan.pdf\n",
        "\n",
        "EXTRA CREDIT: Using class labels (cheating), try to remove/add points in curate the set for better DBSCAN runs"
      ]
    },
    {
      "cell_type": "markdown",
      "metadata": {
        "id": "gMQTon-WzlS6"
      },
      "source": [
        "---\n",
        "### **Section A**\n",
        "Run your own implementaion of DBSCAN on 20ngNews, in two phases."
      ]
    },
    {
      "cell_type": "code",
      "metadata": {
        "id": "RXZP26omOiJ7",
        "colab": {
          "base_uri": "https://localhost:8080/"
        },
        "outputId": "0530d705-54ed-4078-e5b3-8659c2e748a9"
      },
      "source": [
        "from sklearn.datasets import fetch_20newsgroups \n",
        "from sklearn.feature_extraction.text import TfidfVectorizer\n",
        "from sklearn import metrics\n",
        "from scipy.sparse import csr_matrix\n",
        "from sklearn.decomposition import PCA\n",
        "\n",
        "# same normalization parameters just transform \n",
        "\n",
        "newsgroups_train = fetch_20newsgroups(subset='train')\n",
        "newsgroups_test = fetch_20newsgroups(subset='test')\n",
        "\n",
        "categories = ['alt.atheism', 'talk.religion.misc','comp.graphics', 'sci.space']\n",
        "newsgroups_train = fetch_20newsgroups(subset='train',categories=categories)\n",
        "vectorizer = TfidfVectorizer()\n",
        "newsgroups_train = vectorizer.fit_transform(newsgroups_train.data).todense()\n",
        "\n",
        "# pca = PCA(n_components=10)\n",
        "# pca.fit(newsgroups_train)\n",
        "# print(pca.explained_variance_ratio_)\n",
        "# print(pca.singular_values_)\n",
        "\n",
        "epsilon = 0.4\n",
        "discovery = neighbours_discovery(newsgroups_train, epsilon)\n",
        "distances = discovery[0]\n",
        "neighbours = discovery[1]\n",
        "mean_dist = np.mean(distances)\n",
        "print('The average distance between two datapoints', mean_dist)\n",
        "\n",
        "ngnews_scan = bfs_dbscan(neighbours, minPT=3)\n",
        "visited = ngnews_scan['visited']\n",
        "clusters = ngnews_scan['clusters']\n",
        "noise = ngnews_scan['noise']\n",
        "\n",
        "newsgroups_train = newsgroups_train\n",
        "print('number of clusters for 20ngnews: ', len(clusters))\n"
      ],
      "execution_count": 12,
      "outputs": [
        {
          "output_type": "stream",
          "text": [
            "[0.01966659 0.00871473 0.0067392  0.00611139 0.00544744 0.00471885\n",
            " 0.00467416 0.00454502 0.00438404 0.00418868]\n",
            "[6.12124924 4.07476273 3.58326977 3.41228655 3.22160093 2.99842798\n",
            " 2.98419578 2.9426809  2.89009842 2.82497231]\n",
            "The average distance between two datapoints 1.3678283280026378\n",
            "number of clusters for 20ngnews:  12\n"
          ],
          "name": "stdout"
        }
      ]
    },
    {
      "cell_type": "markdown",
      "metadata": {
        "id": "EctaW9x3zoNy"
      },
      "source": [
        "---\n",
        "### **Section B**\n",
        "Run your own implementaion of DBSCAN on Fashion, in two phases."
      ]
    },
    {
      "cell_type": "code",
      "metadata": {
        "colab": {
          "base_uri": "https://localhost:8080/"
        },
        "id": "rn2K7UjNz2ZW",
        "outputId": "4738d835-d4f0-4331-eb37-0b6e739a073b"
      },
      "source": [
        "from keras.datasets import fashion_mnist as fashion\n",
        "import matplotlib.pyplot as plt\n",
        "import itertools\n",
        "from sklearn.preprocessing import normalize\n",
        "\n",
        "(train_data, train_labels) , (test_data, test_labels)= fashion.load_data()\n",
        "\n",
        "# reshape and normalize\n",
        "# Mnist has a total of 70,000 data points (test + train)\n",
        "# (70,000) datapoints is way too many \n",
        "# because the runtime for neighbour discovery is O(n^2)\n",
        "# so I'm only using train data\n",
        "test_data = np.reshape(test_data, (10000, 784))\n",
        "test_data = normalize(test_data, norm ='max') \n",
        "\n",
        "epsilon = 5.5\n",
        "discovery = neighbours_discovery(test_data, epsilon)\n",
        "distances = discovery[0]\n",
        "mean_dist = np.mean(distances)\n",
        "print('The average distance between two datapoints',mean_dist)\n",
        "\n",
        "# choosing an epsilon that's half of the average distance\n",
        "neighbours = discovery[1]\n",
        "\n",
        "fashion_scan = bfs_dbscan(neighbours, minPT=3)\n",
        "visited = fashion_scan['visited']\n",
        "clusters = fashion_scan['clusters']\n",
        "noise = fashion_scan['noise']\n",
        "\n",
        "print('number of clusters for fashion data: ', len(clusters))\n"
      ],
      "execution_count": null,
      "outputs": [
        {
          "output_type": "stream",
          "text": [
            "The average distance between two datapoints 11.350305201790592\n",
            "number of clusters for fashion data:  40\n"
          ],
          "name": "stdout"
        }
      ]
    },
    {
      "cell_type": "markdown",
      "metadata": {
        "id": "WmB2eTI_z28l"
      },
      "source": [
        "---\n",
        "### **Section C**\n",
        "Run your own implementaion of DBSCAN on Household, in two phases."
      ]
    },
    {
      "cell_type": "code",
      "metadata": {
        "id": "gm7Si_AD0zxL"
      },
      "source": [
        "def parse_household_data (infile, columns) -> np.array : \n",
        "  infile = open(infile, \"r\")\n",
        "  all_data = infile.read()\n",
        "  lines = all_data.splitlines()[1:]\n",
        "\n",
        "  dataset = []\n",
        "  for line in lines[:10000]:\n",
        "    if line:\n",
        "      if '?' in line: continue\n",
        "      features = line.split(';')\n",
        "      datapoint_vector = []\n",
        "      for c in columns:\n",
        "        feature = float(features[c].strip('\\'').strip('\\\"'))      \n",
        "        datapoint_vector.append(feature)\n",
        "          \n",
        "      dataset.append(datapoint_vector)\n",
        "\n",
        "  return np.array(dataset)"
      ],
      "execution_count": null,
      "outputs": []
    },
    {
      "cell_type": "code",
      "metadata": {
        "colab": {
          "base_uri": "https://localhost:8080/"
        },
        "id": "zgYY32nOz7XZ",
        "outputId": "02da4293-dfd5-44b0-ad91-eeceb20ffd2b"
      },
      "source": [
        "dataset = parse_household_data('/content/drive/MyDrive/NEU ALIGN CS Masters/CS6220 Data Mining/Colab Notebooks/household_power_consumption.txt', [2,3,4,5,6,7,8])\n",
        "\n",
        "epsilon = 5\n",
        "discovery = neighbours_discovery(dataset, epsilon)\n",
        "distances = discovery[0]\n",
        "neighbours = discovery[1]\n",
        "\n",
        "print('The average distance between two datapoints',mean_dist)\n",
        "\n",
        "household_scan = bfs_dbscan(neighbours, minPT=3)\n",
        "visited = household_scan['visited']\n",
        "clusters = household_scan['clusters']\n",
        "noise = household_scan['noise']\n",
        "\n",
        "print('number of clusters for household data: ', len(clusters))\n"
      ],
      "execution_count": null,
      "outputs": [
        {
          "output_type": "stream",
          "text": [
            "The average distance between two datapoints 11.350305201790592\n",
            "number of clusters for fashion data:  13\n"
          ],
          "name": "stdout"
        }
      ]
    },
    {
      "cell_type": "markdown",
      "metadata": {
        "id": "6gIbaaFdOi3d"
      },
      "source": [
        "---\n",
        "\n",
        "## **PROBLEM 4: Hierarchical Clustering**\n",
        "\n",
        "Use a library to execute hierarchical clustering on MNIST dataset, evaluate the clusters."
      ]
    },
    {
      "cell_type": "code",
      "metadata": {
        "colab": {
          "base_uri": "https://localhost:8080/"
        },
        "id": "bhKkIjNoB_HG",
        "outputId": "8b96f05e-28c0-4f5c-fa5d-c76c03781cd0"
      },
      "source": [
        "from keras.datasets import mnist\n",
        "\n",
        "(x_train, y_train), (x_test, y_test) = mnist.load_data()\n",
        "\n",
        "# let's print the shape before we reshape and normalize\n",
        "print(\"x_train shape\", x_train.shape)\n",
        "print(\"y_train shape\", y_train.shape)\n",
        "print(\"x_test shape\", x_test.shape)\n",
        "print(\"y_test shape\", y_test.shape)\n"
      ],
      "execution_count": 25,
      "outputs": [
        {
          "output_type": "stream",
          "text": [
            "x_train shape (60000, 28, 28)\n",
            "y_train shape (60000,)\n",
            "x_test shape (10000, 28, 28)\n",
            "y_test shape (10000,)\n"
          ],
          "name": "stdout"
        }
      ]
    },
    {
      "cell_type": "code",
      "metadata": {
        "colab": {
          "base_uri": "https://localhost:8080/",
          "height": 804
        },
        "id": "rbOiUA4uCX9A",
        "outputId": "cebbffed-3646-4407-e385-15d33c28174c"
      },
      "source": [
        "from scipy.cluster.hierarchy import dendrogram, linkage\n",
        "from matplotlib import pyplot as plt\n",
        "from sklearn.decomposition import PCA\n",
        "\n",
        "newsgroups_test = np.reshape(x_test, (10000, 784)) \n",
        "newsgroups_test = newsgroups_test[0:50]\n",
        "\n",
        "linked = linkage(newsgroups_test, 'single')\n",
        "\n",
        "labelList = range(1, 11)\n",
        "\n",
        "plt.figure(figsize=(20, 14))\n",
        "dendrogram(linked[:50],\n",
        "            orientation='top',\n",
        "            labels=y_test[0:50],\n",
        "            distance_sort='descending',\n",
        "            show_leaf_counts=True)\n",
        "plt.show()"
      ],
      "execution_count": 27,
      "outputs": [
        {
          "output_type": "display_data",
          "data": {
            "image/png": "[encoded data removed]",
            "text/plain": [
              "<Figure size 1440x1008 with 1 Axes>"
            ]
          },
          "metadata": {
            "tags": [],
            "needs_background": "light"
          }
        }
      ]
    }
  ]
}