{
  "nbformat": 4,
  "nbformat_minor": 0,
  "metadata": {
    "colab": {
      "name": "cs6220_hw1.ipynb",
      "provenance": [],
      "toc_visible": true,
      "mount_file_id": "1eORKWADRItXcPGpRTksp9OsXQza16Sjs",
      "authorship_tag": "ABX9TyOgdszLRY84Gcio3d4KNv2n",
      "include_colab_link": true
    },
    "kernelspec": {
      "name": "python3",
      "display_name": "Python 3"
    }
  },
  "cells": [
    {
      "cell_type": "markdown",
      "metadata": {
        "id": "view-in-github",
        "colab_type": "text"
      },
      "source": [
        "<a href=\"https://colab.research.google.com/github/linyu3294/cs6220-data-minning-hw/blob/main/cs6220_hw1.ipynb\" target=\"_parent\"><img src=\"https://colab.research.google.com/assets/colab-badge.svg\" alt=\"Open In Colab\"/></a>"
      ]
    },
    {
      "cell_type": "markdown",
      "metadata": {
        "id": "P0-DZtFjyzGj"
      },
      "source": [
        "# **HW1**"
      ]
    },
    {
      "cell_type": "markdown",
      "metadata": {
        "id": "W1GcM2vLTC4k"
      },
      "source": [
        "## **Problem 1**"
      ]
    },
    {
      "cell_type": "markdown",
      "metadata": {
        "id": "2RfqCYkfwbph"
      },
      "source": [
        "---\n",
        "### **Section A**\n",
        "\n",
        "\n",
        "Compute the number of distinct authors, publication venues, publications, and citations/references \n",
        "\n",
        "---\n",
        "\n",
        "\n"
      ]
    },
    {
      "cell_type": "markdown",
      "metadata": {
        "id": "zAKOinA_lcwC"
      },
      "source": [
        "```\n",
        "Function def map_features() parses the raw data and stores the features in a dictionary that has the following features:\n",
        "\n",
        " {index : \n",
        "       [ publication, \n",
        "         [list of authors],\n",
        "         publication venue, \n",
        "         [list of references] \n",
        "        ]\n",
        "  }\n",
        "```"
      ]
    },
    {
      "cell_type": "code",
      "metadata": {
        "id": "Vm3oRnnwaF5C"
      },
      "source": [
        "def map_features(file):\n",
        "    try:\n",
        "        infile = open(file, 'r')\n",
        "        all_data = infile.read()\n",
        "        lines = all_data.splitlines()\n",
        "        features = {}\n",
        "\n",
        "        index = 0;\n",
        "        for line in lines:\n",
        "\n",
        "            if '#index' in line:\n",
        "                index = int(line.split(\"#index \")[1].strip())\n",
        "                features[index] = [None, [], None, []]\n",
        "\n",
        "            '''publication'''\n",
        "            if '#*' in line:\n",
        "                features.get(index, [])[0] = line.split(\"#*\")[1]\n",
        "\n",
        "            '''author'''\n",
        "            if '#@' in line:\n",
        "                line = line.strip()\n",
        "                if line:\n",
        "                    # features.get(index, [])[1] = line.split(\"#@ \")[1].split(\";\")\n",
        "                    features.get(index, [])[1] = line[3:].split(';')\n",
        "\n",
        "            '''publication venue'''\n",
        "            if '#c' in line:\n",
        "                features.get(index, [])[2] = line.split(\"#c\")[1]\n",
        "\n",
        "            '''references'''\n",
        "            if '#%' in line:\n",
        "                reference_list = features.get(index, [])[3]\n",
        "                reference_list.append(line.split(\"#%\")[1])\n",
        "\n",
        "        infile.close()\n",
        "\n",
        "    except OSError:\n",
        "        print('Oops there is an error when opening your file. ',\n",
        "              'Make sure you the file exists in path!')\n",
        "    return features\n"
      ],
      "execution_count": null,
      "outputs": []
    },
    {
      "cell_type": "markdown",
      "metadata": {
        "id": "6N5w552xxrdu"
      },
      "source": [
        "---\n",
        "```\n",
        "Initiating lists and sets to store features. These features will be parsed from the dictionary.\n",
        "```"
      ]
    },
    {
      "cell_type": "code",
      "metadata": {
        "id": "JpX1gc4yrXbv"
      },
      "source": [
        "file = \"/content/drive/MyDrive/NEU ALIGN CS Masters/CS6220 Data Mining/Colab Notebooks/AP_train.txt\"\n",
        "features = map_features(file)\n",
        "publications = []\n",
        "authors = []\n",
        "publication_venues = []\n",
        "references = []\n"
      ],
      "execution_count": null,
      "outputs": []
    },
    {
      "cell_type": "markdown",
      "metadata": {
        "id": "smRX9Ae3yTXf"
      },
      "source": [
        "---\n",
        "```\n",
        "Parsing the features from the dictionary.\n",
        "```"
      ]
    },
    {
      "cell_type": "code",
      "metadata": {
        "id": "KdlbL7AeaT9R"
      },
      "source": [
        "for i in features.values():\n",
        "    publications.append(i[0])\n",
        "    for author in i[1]:\n",
        "        authors.append(author)\n",
        "    publication_venues.append(i[2])\n",
        "    if len(i[3]) != 0:\n",
        "        for reference in i[3]:\n",
        "            references.append(reference)"
      ],
      "execution_count": null,
      "outputs": []
    },
    {
      "cell_type": "markdown",
      "metadata": {
        "id": "DjWDbnREyY90"
      },
      "source": [
        "---\n",
        "```\n",
        "Deduping features by turning lists into sets.\n",
        "```\n"
      ]
    },
    {
      "cell_type": "code",
      "metadata": {
        "id": "cqYUEmIFaRmp"
      },
      "source": [
        "unique_publications = set(publications)\n",
        "unique_authors = set(authors)\n",
        "unique_publication_venues = set(publication_venues)\n",
        "unique_references = set(references)"
      ],
      "execution_count": null,
      "outputs": []
    },
    {
      "cell_type": "markdown",
      "metadata": {
        "id": "afw0ogXbyh35"
      },
      "source": [
        "---\n",
        "```\n",
        "Printing out the feature sets.\n",
        "```"
      ]
    },
    {
      "cell_type": "code",
      "metadata": {
        "colab": {
          "base_uri": "https://localhost:8080/"
        },
        "id": "F5kuRmL3aggM",
        "outputId": "96e84829-7ca1-4343-a037-bcf2bd3a8a84"
      },
      "source": [
        "print('Total number of publications : ', len(publications))\n",
        "print('Unique number of publications : ', len(unique_publications))\n",
        "print('Unique number of authors : ', len(unique_authors))\n",
        "print('Unique number of publication venues', len(unique_publication_venues))\n",
        "print('Unique number of references', len(unique_references))"
      ],
      "execution_count": null,
      "outputs": [
        {
          "output_type": "stream",
          "text": [
            "Total number of publications :  1976815\n",
            "Unique number of publications :  1929487\n",
            "Unique number of authors :  1484984\n",
            "Unique number of publication venues 255688\n",
            "Unique number of references 871092\n"
          ],
          "name": "stdout"
        }
      ]
    },
    {
      "cell_type": "markdown",
      "metadata": {
        "id": "b2i5f8zs1JKp"
      },
      "source": [
        "---\n",
        "### **Section B**\n",
        "\n",
        "Are these numbers likely to be accurate? As an example look up all the publications venue names associated with the conference “Principles and Practice of Knowledge Discovery in Databases”13 – what do you notice?\n",
        "\n",
        "\n"
      ]
    },
    {
      "cell_type": "markdown",
      "metadata": {
        "id": "w4H8pqJultZX"
      },
      "source": [
        "---\n",
        "```\n",
        "Using unique publication venues set, search for substring 'principles and practice of knowledge discovery'. \n",
        "Each time this substring appears, increase count.\n",
        "\n",
        "To answer the question, these numbers are not likely to be accurate because the raw data is not clean. \n",
        "Searching the exact matches will result in some ommissions or duplications.\n",
        "```\n"
      ]
    },
    {
      "cell_type": "code",
      "metadata": {
        "id": "FyJUOhr7YcTQ"
      },
      "source": [
        "def count_in_public_venues(public_venues):\n",
        "    count = 0;\n",
        "    for public_venue in public_venues:\n",
        "        if public_venue.lower().__contains__('principles and practice of knowledge discovery'):\n",
        "            count = count + 1\n",
        "    return count\n",
        "\n"
      ],
      "execution_count": null,
      "outputs": []
    },
    {
      "cell_type": "markdown",
      "metadata": {
        "id": "G0MBY97HkPif"
      },
      "source": [
        "---\n",
        "```\n",
        "print out the number of times substring 'principles and practice of knowledge discovery' appears.\n",
        "```"
      ]
    },
    {
      "cell_type": "code",
      "metadata": {
        "id": "iJ14hQn5Yo7p",
        "colab": {
          "base_uri": "https://localhost:8080/"
        },
        "outputId": "8201f02a-1676-4c65-84f0-b73dc5ab13f2"
      },
      "source": [
        "principles_and_practice_count = count_in_public_venues(unique_publication_venues)\n",
        "print('\\\"Principles and Practice of Knowledge Discovery in Databases\\\" appears : '\n",
        "      , principles_and_practice_count, ' times')"
      ],
      "execution_count": null,
      "outputs": [
        {
          "output_type": "stream",
          "text": [
            "\"Principles and Practice of Knowledge Discovery in Databases\" appears :  5  times\n"
          ],
          "name": "stdout"
        }
      ]
    },
    {
      "cell_type": "markdown",
      "metadata": {
        "id": "BMtoMZ6Eo-vS"
      },
      "source": [
        "---\n",
        "### **Section C**\n",
        "For each author, construct the list of publications. \n",
        "Plot a histogram of the number of publications per author (use a logarithmic scale on the y axis)"
      ]
    },
    {
      "cell_type": "markdown",
      "metadata": {
        "id": "nWxjwBt9mIfa"
      },
      "source": [
        "---\n",
        "```\n",
        "Create a list that represents the freequency of publications per user.\n",
        "Using mapped feature dictionary from section A, loop through all the values of the authors. \n",
        "Look each of the auhtors up in the new dictionary, and if value not found, return default as 0, else return value + 1.\n",
        "```\n",
        "\n"
      ]
    },
    {
      "cell_type": "code",
      "metadata": {
        "colab": {
          "base_uri": "https://localhost:8080/",
          "height": 232
        },
        "id": "C3mUJ0Ie8fCA",
        "outputId": "cde44177-7056-4575-ce2c-c17548d0bf58"
      },
      "source": [
        "import matplotlib.pyplot as plt\n",
        "import numpy as np\n",
        "\n",
        "pub_per_author_dict = {}\n",
        "\n",
        "for i in features.values():\n",
        "  for j in i[1]:\n",
        "    temp = pub_per_author_dict.get(j, 0)\n",
        "    pub_per_author_dict [j] = temp + 1\n",
        "\n",
        "pub_per_author_list = list(pub_per_author_dict.values())\n",
        "pub_per_author_array = np.array(pub_per_author_list)\n"
      ],
      "execution_count": 1,
      "outputs": [
        {
          "output_type": "error",
          "ename": "NameError",
          "evalue": "ignored",
          "traceback": [
            "\u001b[0;31m---------------------------------------------------------------------------\u001b[0m",
            "\u001b[0;31mNameError\u001b[0m                                 Traceback (most recent call last)",
            "\u001b[0;32m<ipython-input-1-275cb4680ee0>\u001b[0m in \u001b[0;36m<module>\u001b[0;34m()\u001b[0m\n\u001b[1;32m      4\u001b[0m \u001b[0mpub_per_author_dict\u001b[0m \u001b[0;34m=\u001b[0m \u001b[0;34m{\u001b[0m\u001b[0;34m}\u001b[0m\u001b[0;34m\u001b[0m\u001b[0;34m\u001b[0m\u001b[0m\n\u001b[1;32m      5\u001b[0m \u001b[0;34m\u001b[0m\u001b[0m\n\u001b[0;32m----> 6\u001b[0;31m \u001b[0;32mfor\u001b[0m \u001b[0mi\u001b[0m \u001b[0;32min\u001b[0m \u001b[0mfeatures\u001b[0m\u001b[0;34m.\u001b[0m\u001b[0mvalues\u001b[0m\u001b[0;34m(\u001b[0m\u001b[0;34m)\u001b[0m\u001b[0;34m:\u001b[0m\u001b[0;34m\u001b[0m\u001b[0;34m\u001b[0m\u001b[0m\n\u001b[0m\u001b[1;32m      7\u001b[0m   \u001b[0;32mfor\u001b[0m \u001b[0mj\u001b[0m \u001b[0;32min\u001b[0m \u001b[0mi\u001b[0m\u001b[0;34m[\u001b[0m\u001b[0;36m1\u001b[0m\u001b[0;34m]\u001b[0m\u001b[0;34m:\u001b[0m\u001b[0;34m\u001b[0m\u001b[0;34m\u001b[0m\u001b[0m\n\u001b[1;32m      8\u001b[0m     \u001b[0mtemp\u001b[0m \u001b[0;34m=\u001b[0m \u001b[0mpub_per_author_dict\u001b[0m\u001b[0;34m.\u001b[0m\u001b[0mget\u001b[0m\u001b[0;34m(\u001b[0m\u001b[0mj\u001b[0m\u001b[0;34m,\u001b[0m \u001b[0;36m0\u001b[0m\u001b[0;34m)\u001b[0m\u001b[0;34m\u001b[0m\u001b[0;34m\u001b[0m\u001b[0m\n",
            "\u001b[0;31mNameError\u001b[0m: name 'features' is not defined"
          ]
        }
      ]
    },
    {
      "cell_type": "markdown",
      "metadata": {
        "id": "hdMJ6Od9ma1q"
      },
      "source": [
        "---\n",
        "```\n",
        "Plotting the Feequency of Publications Per Author \n",
        "```"
      ]
    },
    {
      "cell_type": "code",
      "metadata": {
        "colab": {
          "base_uri": "https://localhost:8080/",
          "height": 342
        },
        "id": "9T32YxqqRoqR",
        "outputId": "bf18298c-fb4b-4ebf-dd63-03d1e9459121"
      },
      "source": [
        "import matplotlib.pyplot as plt\n",
        "import numpy as np\n",
        "\n",
        "plt.hist(pub_per_author_array, [1,2,3,4,5,6,7,8,9,10], rwidth = 0.95)\n",
        "plt.title ('\\n\\n Publications Per Author')\n",
        "plt.xlabel('Bins of Authors')\n",
        "plt.ylabel('Freequency of Publications')"
      ],
      "execution_count": null,
      "outputs": [
        {
          "output_type": "execute_result",
          "data": {
            "text/plain": [
              "Text(0, 0.5, 'Freequency of Publications')"
            ]
          },
          "metadata": {
            "tags": []
          },
          "execution_count": 43
        },
        {
          "output_type": "display_data",
          "data": {
            "image/png": "[encoded data removed]",
            "text/plain": [
              "<Figure size 432x288 with 1 Axes>"
            ]
          },
          "metadata": {
            "tags": [],
            "needs_background": "light"
          }
        }
      ]
    },
    {
      "cell_type": "markdown",
      "metadata": {
        "id": "fKIZhVrThZLu"
      },
      "source": [
        "---\n",
        "### **Section D**\n",
        "\n",
        "Calculate the mean and standard deviation of the number of publications per author. \n",
        "Also calculate the Q1 (1st quartile14), Q2 (2nd quartile, or median) and Q3 (3rd quartile) values. \n",
        "Compare the median to the mean and explain the difference between the two values based on the standard deviation and the 1st and 3rd quartiles.\n",
        "\n",
        "----"
      ]
    },
    {
      "cell_type": "markdown",
      "metadata": {
        "id": "uxSU_RRInGJR"
      },
      "source": [
        "```\n",
        "Calculate the mean of the number of publications per author using the results from section c.\n",
        "```"
      ]
    },
    {
      "cell_type": "code",
      "metadata": {
        "id": "RqMJEqWuhYjH",
        "colab": {
          "base_uri": "https://localhost:8080/"
        },
        "outputId": "f4154151-8e6e-4942-a7e2-54ac69c2a216"
      },
      "source": [
        "mean = len(publications) / len(unique_authors)\n",
        "print (\"The mean of the number of publications per author : \" , mean)"
      ],
      "execution_count": 48,
      "outputs": [
        {
          "output_type": "stream",
          "text": [
            "The mean of the number of publications per author :  1.3312028951153683\n"
          ],
          "name": "stdout"
        }
      ]
    },
    {
      "cell_type": "markdown",
      "metadata": {
        "id": "ID-OpndoEdtN"
      },
      "source": [
        "---\n",
        "```\n",
        "Calculate the standard deviation of publications per author using the results from section c.\n",
        "Standard Deviation is the square root of variance.\n",
        "```\n"
      ]
    },
    {
      "cell_type": "code",
      "metadata": {
        "id": "wMUVQTZ2Ekn8"
      },
      "source": [
        ""
      ],
      "execution_count": null,
      "outputs": []
    },
    {
      "cell_type": "markdown",
      "metadata": {
        "id": "oHO-_vGkTaeA"
      },
      "source": [
        "## **Problem 2**"
      ]
    },
    {
      "cell_type": "code",
      "metadata": {
        "id": "PqKrrqJhUMnY",
        "colab": {
          "base_uri": "https://localhost:8080/"
        },
        "outputId": "c9bbdad8-2dda-4dcb-cacb-26801e7231b8"
      },
      "source": [
        "infile = '/content/drive/MyDrive/NEU ALIGN CS Masters/CS6220 Data Mining/Colab Notebooks/kosarak.dat'\n",
        "max_news_index = 0;\n",
        "\n",
        "try:\n",
        "  infile = open(infile, \"r\")\n",
        "  all_data = infile.read()\n",
        "  lines = all_data.splitlines()\n",
        "\n",
        "  for line in lines:\n",
        "    if line:\n",
        "      all_news_index_in_line = line.split(' ')\n",
        "      for news_index in all_news_index_in_line:\n",
        "        if int(news_index) > max_news_index:\n",
        "          max_news_index = int(news_index)\n",
        "  infile.close()\n",
        "  print (max_news_index)\n",
        "except OSError:\n",
        "    print('Oops there is an error when opening your file. ',\n",
        "          'Make sure you the file exists in path!')\n"
      ],
      "execution_count": 5,
      "outputs": [
        {
          "output_type": "stream",
          "text": [
            "41270\n"
          ],
          "name": "stdout"
        }
      ]
    },
    {
      "cell_type": "code",
      "metadata": {
        "id": "UOJ47s4hC7SF",
        "colab": {
          "base_uri": "https://localhost:8080/",
          "height": 232
        },
        "outputId": "2a3af061-df66-437e-be56-fba6d1e48f91"
      },
      "source": [
        "infile = '/content/drive/MyDrive/NEU ALIGN CS Masters/CS6220 Data Mining/Colab Notebooks/kosarak.dat'\n",
        "outfile_path = '/content/drive/MyDrive/NEU ALIGN CS Masters/CS6220 Data Mining/Colab Notebooks/kosarak.arff'\n",
        "\n",
        "try:\n",
        "  infile = open(infile, \"r\")\n",
        "  all_data = infile.read()\n",
        "  lines = all_data.splitlines()\n",
        "\n",
        "  outfile = open(outfile_path, \"w\")  \n",
        "  outfile.write('% Title : Kosarak News Clicks Database \\n%\\n')\n",
        "  outfile.write('@relation kosarak\\n')\n",
        "\n",
        "  for i in range(max_news_index):\n",
        "    string = '@attribute ' + 'news' + str(i) + ' {0, 1} \\n' \n",
        "    outfile.write(string)\n",
        "\n",
        "  outfile.write('@data\\n')\n",
        "  for line in lines[0:200]:\n",
        "    if line:\n",
        "      user_entry = '{'\n",
        "      all_news_index_in_line = line.split(' ')\n",
        "      for ()\n",
        "      all_news_index_in_line = all_news_index_in_line\n",
        "      for news_index in all_news_index_in_line:\n",
        "        user_entry = user_entry + str(int(news_index)-1) + ' 1,'\n",
        "      user_entry = user_entry[0:len(user_entry)-1] + '}'\n",
        "      outfile.write(user_entry + '\\n')\n",
        "\n",
        "  infile.close()\n",
        "  outfile.close()\n",
        "except OSError:\n",
        "    print('Oops there is an error when opening your file. ',\n",
        "          'Make sure you the file exists in path!')\n",
        "    \n"
      ],
      "execution_count": 35,
      "outputs": [
        {
          "output_type": "error",
          "ename": "TypeError",
          "evalue": "ignored",
          "traceback": [
            "\u001b[0;31m---------------------------------------------------------------------------\u001b[0m",
            "\u001b[0;31mTypeError\u001b[0m                                 Traceback (most recent call last)",
            "\u001b[0;32m<ipython-input-35-c3f9a65598dd>\u001b[0m in \u001b[0;36m<module>\u001b[0;34m()\u001b[0m\n\u001b[1;32m     21\u001b[0m       \u001b[0mall_news_index_in_line\u001b[0m \u001b[0;34m=\u001b[0m \u001b[0mline\u001b[0m\u001b[0;34m.\u001b[0m\u001b[0msplit\u001b[0m\u001b[0;34m(\u001b[0m\u001b[0;34m' '\u001b[0m\u001b[0;34m)\u001b[0m\u001b[0;34m\u001b[0m\u001b[0;34m\u001b[0m\u001b[0m\n\u001b[1;32m     22\u001b[0m       \u001b[0mall_news_index_in_lines\u001b[0m \u001b[0;34m=\u001b[0m \u001b[0mall_news_index_in_line\u001b[0m\u001b[0;34m.\u001b[0m\u001b[0msort\u001b[0m\u001b[0;34m(\u001b[0m\u001b[0;34m)\u001b[0m\u001b[0;34m\u001b[0m\u001b[0;34m\u001b[0m\u001b[0m\n\u001b[0;32m---> 23\u001b[0;31m       \u001b[0;32mfor\u001b[0m \u001b[0mnews_index\u001b[0m \u001b[0;32min\u001b[0m \u001b[0mall_news_index_in_lines\u001b[0m\u001b[0;34m:\u001b[0m\u001b[0;34m\u001b[0m\u001b[0;34m\u001b[0m\u001b[0m\n\u001b[0m\u001b[1;32m     24\u001b[0m         \u001b[0muser_entry\u001b[0m \u001b[0;34m=\u001b[0m \u001b[0muser_entry\u001b[0m \u001b[0;34m+\u001b[0m \u001b[0mstr\u001b[0m\u001b[0;34m(\u001b[0m\u001b[0mint\u001b[0m\u001b[0;34m(\u001b[0m\u001b[0mnews_index\u001b[0m\u001b[0;34m)\u001b[0m\u001b[0;34m-\u001b[0m\u001b[0;36m1\u001b[0m\u001b[0;34m)\u001b[0m \u001b[0;34m+\u001b[0m \u001b[0;34m' 1,'\u001b[0m\u001b[0;34m\u001b[0m\u001b[0;34m\u001b[0m\u001b[0m\n\u001b[1;32m     25\u001b[0m       \u001b[0muser_entry\u001b[0m \u001b[0;34m=\u001b[0m \u001b[0muser_entry\u001b[0m\u001b[0;34m[\u001b[0m\u001b[0;36m0\u001b[0m\u001b[0;34m:\u001b[0m\u001b[0mlen\u001b[0m\u001b[0;34m(\u001b[0m\u001b[0muser_entry\u001b[0m\u001b[0;34m)\u001b[0m\u001b[0;34m-\u001b[0m\u001b[0;36m1\u001b[0m\u001b[0;34m]\u001b[0m \u001b[0;34m+\u001b[0m \u001b[0;34m'}'\u001b[0m\u001b[0;34m\u001b[0m\u001b[0;34m\u001b[0m\u001b[0m\n",
            "\u001b[0;31mTypeError\u001b[0m: 'NoneType' object is not iterable"
          ]
        }
      ]
    },
    {
      "cell_type": "code",
      "metadata": {
        "id": "HSNJnYaDL2wp"
      },
      "source": [
        ""
      ],
      "execution_count": null,
      "outputs": []
    }
  ]
}