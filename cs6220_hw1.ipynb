{
  "nbformat": 4,
  "nbformat_minor": 0,
  "metadata": {
    "colab": {
      "name": "cs6220_hw1.ipynb",
      "provenance": [],
      "toc_visible": true,
      "mount_file_id": "1eORKWADRItXcPGpRTksp9OsXQza16Sjs",
      "authorship_tag": "ABX9TyPk8RPLi52zEAvrMDCttv8G",
      "include_colab_link": true
    },
    "kernelspec": {
      "name": "python3",
      "display_name": "Python 3"
    }
  },
  "cells": [
    {
      "cell_type": "markdown",
      "metadata": {
        "id": "view-in-github",
        "colab_type": "text"
      },
      "source": [
        "<a href=\"https://colab.research.google.com/github/linyu3294/cs6220-data-minning-hw/blob/main/cs6220_hw1.ipynb\" target=\"_parent\"><img src=\"https://colab.research.google.com/assets/colab-badge.svg\" alt=\"Open In Colab\"/></a>"
      ]
    },
    {
      "cell_type": "markdown",
      "metadata": {
        "id": "P0-DZtFjyzGj"
      },
      "source": [
        "# **HW1**"
      ]
    },
    {
      "cell_type": "markdown",
      "metadata": {
        "id": "W1GcM2vLTC4k"
      },
      "source": [
        "## **Problem 1**"
      ]
    },
    {
      "cell_type": "markdown",
      "metadata": {
        "id": "2RfqCYkfwbph"
      },
      "source": [
        "### **Section A**\n",
        "\n",
        "---\n",
        "``` \n",
        "Compute the number of distinct authors, publication venues, publications, and citations/references\n",
        "```\n",
        "---\n",
        "Function map_features parses the raw data and stores the features in a dictionary that has the following features:\n",
        "\n",
        " {index : \n",
        "       [ publication, \n",
        "         [list of authors],\n",
        "         publication venue, \n",
        "         [list of references] \n",
        "        ]}\n",
        "        \n",
        "---\n"
      ]
    },
    {
      "cell_type": "code",
      "metadata": {
        "id": "Vm3oRnnwaF5C"
      },
      "source": [
        "def map_features(file):\n",
        "    try:\n",
        "        infile = open(file, 'r')\n",
        "        all_data = infile.read()\n",
        "        lines = all_data.splitlines()\n",
        "        features = {}\n",
        "\n",
        "        index = 0;\n",
        "        for line in lines:\n",
        "\n",
        "            if '#index' in line:\n",
        "                index = int(line.split(\"#index \")[1].strip())\n",
        "                features[index] = [None, [], None, []]\n",
        "\n",
        "            '''publication'''\n",
        "            if '#*' in line:\n",
        "                features.get(index, [])[0] = line.split(\"#*\")[1]\n",
        "\n",
        "            '''author'''\n",
        "            if '#@' in line:\n",
        "                line = line.strip()\n",
        "                if line:\n",
        "                    # features.get(index, [])[1] = line.split(\"#@ \")[1].split(\";\")\n",
        "                    features.get(index, [])[1] = line[3:].split(';')\n",
        "\n",
        "            '''publication venue'''\n",
        "            if '#c' in line:\n",
        "                features.get(index, [])[2] = line.split(\"#c\")[1]\n",
        "\n",
        "            '''references'''\n",
        "            if '#%' in line:\n",
        "                reference_list = features.get(index, [])[3]\n",
        "                reference_list.append(line.split(\"#%\")[1])\n",
        "\n",
        "        infile.close()\n",
        "\n",
        "    except OSError:\n",
        "        print('Oops there is an error when opening your file. ',\n",
        "              'Make sure you the file exists in path!')\n",
        "    return features\n"
      ],
      "execution_count": 3,
      "outputs": []
    },
    {
      "cell_type": "markdown",
      "metadata": {
        "id": "6N5w552xxrdu"
      },
      "source": [
        "Initiating lists and sets to store features. These features will be parsed from the dictionary."
      ]
    },
    {
      "cell_type": "code",
      "metadata": {
        "id": "JpX1gc4yrXbv"
      },
      "source": [
        "file = \"/content/drive/MyDrive/NEU ALIGN CS Masters/CS6220 Data Mining/Colab Notebooks/AP_train.txt\"\n",
        "features = map_features(file)\n",
        "publications = []\n",
        "authors = []\n",
        "publication_venues = []\n",
        "references = []\n"
      ],
      "execution_count": 4,
      "outputs": []
    },
    {
      "cell_type": "markdown",
      "metadata": {
        "id": "smRX9Ae3yTXf"
      },
      "source": [
        "Parsing the features from the dictionary."
      ]
    },
    {
      "cell_type": "code",
      "metadata": {
        "id": "KdlbL7AeaT9R"
      },
      "source": [
        "for i in features.values():\n",
        "    publications.append(i[0])\n",
        "    for author in i[1]:\n",
        "        authors.append(author)\n",
        "    publication_venues.append(i[2])\n",
        "    if len(i[3]) != 0:\n",
        "        for reference in i[3]:\n",
        "            references.append(reference)"
      ],
      "execution_count": 5,
      "outputs": []
    },
    {
      "cell_type": "markdown",
      "metadata": {
        "id": "DjWDbnREyY90"
      },
      "source": [
        "Deduping features by turning lists into sets."
      ]
    },
    {
      "cell_type": "code",
      "metadata": {
        "id": "cqYUEmIFaRmp"
      },
      "source": [
        "unique_publications = set(publications)\n",
        "unique_authors = set(authors)\n",
        "unique_publication_venues = set(publication_venues)\n",
        "unique_references = set(references)"
      ],
      "execution_count": 6,
      "outputs": []
    },
    {
      "cell_type": "markdown",
      "metadata": {
        "id": "afw0ogXbyh35"
      },
      "source": [
        "Printing out the feature sets."
      ]
    },
    {
      "cell_type": "code",
      "metadata": {
        "colab": {
          "base_uri": "https://localhost:8080/"
        },
        "id": "F5kuRmL3aggM",
        "outputId": "96e84829-7ca1-4343-a037-bcf2bd3a8a84"
      },
      "source": [
        "print('Total number of publications : ', len(publications))\n",
        "print('Unique number of publications : ', len(unique_publications))\n",
        "print('Unique number of authors : ', len(unique_authors))\n",
        "print('Unique number of publication venues', len(unique_publication_venues))\n",
        "print('Unique number of references', len(unique_references))"
      ],
      "execution_count": 7,
      "outputs": [
        {
          "output_type": "stream",
          "text": [
            "Total number of publications :  1976815\n",
            "Unique number of publications :  1929487\n",
            "Unique number of authors :  1484984\n",
            "Unique number of publication venues 255688\n",
            "Unique number of references 871092\n"
          ],
          "name": "stdout"
        }
      ]
    },
    {
      "cell_type": "markdown",
      "metadata": {
        "id": "b2i5f8zs1JKp"
      },
      "source": [
        "### **Section B**\n",
        "\n",
        "---\n",
        "```\n",
        "Are these numbers likely to be accurate? As an example look up all the publications venue names associated with the conference “Principles and Practice of Knowledge Discovery in Databases”13 – what do you notice?\n",
        "```\n",
        "---\n",
        "\n",
        "Using unique publication venues set, search for substring 'principles and practice of knowledge discovery'. Each time this substring appears, increase count.\n",
        "\n",
        "To answer the question, these numbers are not likely to be accurate because the raw data is not clean. Searching the exact matches will result in some ommissions or duplications.\n",
        "\n",
        "---\n"
      ]
    },
    {
      "cell_type": "code",
      "metadata": {
        "id": "FyJUOhr7YcTQ"
      },
      "source": [
        "def count_in_public_venues(public_venues):\n",
        "    count = 0;\n",
        "    for public_venue in public_venues:\n",
        "        if public_venue.lower().__contains__('principles and practice of knowledge discovery'):\n",
        "            count = count + 1\n",
        "    return count\n",
        "\n"
      ],
      "execution_count": 8,
      "outputs": []
    },
    {
      "cell_type": "code",
      "metadata": {
        "id": "iJ14hQn5Yo7p",
        "colab": {
          "base_uri": "https://localhost:8080/"
        },
        "outputId": "8201f02a-1676-4c65-84f0-b73dc5ab13f2"
      },
      "source": [
        "principles_and_practice_count = count_in_public_venues(unique_publication_venues)\n",
        "print('\\\"Principles and Practice of Knowledge Discovery in Databases\\\" appears : '\n",
        "      , principles_and_practice_count, ' times')"
      ],
      "execution_count": 9,
      "outputs": [
        {
          "output_type": "stream",
          "text": [
            "\"Principles and Practice of Knowledge Discovery in Databases\" appears :  5  times\n"
          ],
          "name": "stdout"
        }
      ]
    },
    {
      "cell_type": "markdown",
      "metadata": {
        "id": "BMtoMZ6Eo-vS"
      },
      "source": [
        "### **Section C**\n",
        "\n",
        "---\n",
        "```\n",
        "For each author, construct the list of publications. \n",
        "Plot a histogram of the number of publications per author (use a logarithmic scale on the y axis)\n",
        "```\n",
        "---\n",
        "\n",
        "Using **mapped feature dictionary from section A**, loop through all the values of the authors. Look each of the auhtors up in the new dictionary, and if value not found, return default as 0, else return value + 1.\n",
        "\n",
        "Here is the structure of **mapped feature dictionary from section A**\n",
        "\n",
        "\n",
        " {index : [ publication, [list of authors], publication venue, [list of references] ]}\n",
        "\n",
        "---\n",
        "\n",
        "\n",
        " I NEED HELP WITH PLOTTING\n",
        "\n",
        "\n"
      ]
    },
    {
      "cell_type": "code",
      "metadata": {
        "colab": {
          "base_uri": "https://localhost:8080/"
        },
        "id": "C3mUJ0Ie8fCA",
        "outputId": "928a1ef0-8e1c-41d2-f51d-174e500d415d"
      },
      "source": [
        "import matplotlib.pyplot as plt\n",
        "import numpy as np\n",
        "\n",
        "pub_per_author_dict = {}\n",
        "\n",
        "for i in features.values():\n",
        "  for j in i[1]:\n",
        "    temp = pub_per_author_dict.get(j, 0)\n",
        "    pub_per_author_dict [j] = temp + 1\n",
        "\n",
        "print (pub_per_author_dict.get(''))\n",
        "\n",
        "\n",
        "pub_per_author_list = list(pub_per_author_dict.values())\n",
        "pub_per_author_array = np.array(pub_per_author_list)\n",
        "print (pub_per_author_array[0:30])"
      ],
      "execution_count": 10,
      "outputs": [
        {
          "output_type": "stream",
          "text": [
            "42176\n",
            "[   48 42176    61     7    17   356    34     8     1     4     2     1\n",
            "    55     9    58    99     1     1    46     1     9     4    61   204\n",
            "   157   145   165     2     6    18]\n"
          ],
          "name": "stdout"
        }
      ]
    },
    {
      "cell_type": "code",
      "metadata": {
        "colab": {
          "base_uri": "https://localhost:8080/",
          "height": 316
        },
        "id": "9T32YxqqRoqR",
        "outputId": "1db91514-6c03-428f-8174-b3bf3502e0e7"
      },
      "source": [
        "import matplotlib.pyplot as plt\n",
        "import numpy as np\n",
        "\n",
        "\n",
        "plt.hist(pub_per_author_array, [1,2,3,4])\n"
      ],
      "execution_count": 17,
      "outputs": [
        {
          "output_type": "execute_result",
          "data": {
            "text/plain": [
              "(array([887684., 229402., 164499.]),\n",
              " array([1, 2, 3, 4]),\n",
              " <a list of 3 Patch objects>)"
            ]
          },
          "metadata": {
            "tags": []
          },
          "execution_count": 17
        },
        {
          "output_type": "display_data",
          "data": {
            "image/png": "[encoded data removed]",
            "text/plain": [
              "<Figure size 432x288 with 1 Axes>"
            ]
          },
          "metadata": {
            "tags": [],
            "needs_background": "light"
          }
        }
      ]
    },
    {
      "cell_type": "markdown",
      "metadata": {
        "id": "oHO-_vGkTaeA"
      },
      "source": [
        "## **Problem 2**"
      ]
    },
    {
      "cell_type": "code",
      "metadata": {
        "id": "PqKrrqJhUMnY",
        "colab": {
          "base_uri": "https://localhost:8080/"
        },
        "outputId": "3a61b543-3e4d-4fb3-d76a-a42ac9fcb436"
      },
      "source": [
        "infile = '/content/drive/MyDrive/NEU ALIGN CS Masters/CS6220 Data Mining/Colab Notebooks/kosarak.dat'\n",
        "max_news_index = 0;\n",
        "\n",
        "try:\n",
        "  infile = open(infile, \"r\")\n",
        "  all_data = infile.read()\n",
        "  lines = all_data.splitlines()\n",
        "\n",
        "  for line in lines:\n",
        "    if line:\n",
        "      all_news_index_in_line = line.split(' ')\n",
        "      for news_index in all_news_index_in_line:\n",
        "        if int(news_index) > max_news_index:\n",
        "          max_news_index = int(news_index)\n",
        "  infile.close()\n",
        "  print (max_news_index)\n",
        "except OSError:\n",
        "    print('Oops there is an error when opening your file. ',\n",
        "          'Make sure you the file exists in path!')\n"
      ],
      "execution_count": 20,
      "outputs": [
        {
          "output_type": "stream",
          "text": [
            "41270\n"
          ],
          "name": "stdout"
        }
      ]
    },
    {
      "cell_type": "code",
      "metadata": {
        "id": "UOJ47s4hC7SF"
      },
      "source": [
        "path = chap_name\n",
        "\n",
        "if not os.path.exists(path):\n",
        "    os.makedirs(path)\n",
        "\n",
        "try:\n",
        "  outfile = open(\"kosarak.arff\", \"w\")  \n",
        "  outfile.write('% Title : Kosarak News Clicks Database \\n\\n')\n",
        "  outfile.write('@relation kosarak')\n",
        "\n",
        "  for i in max_news_index\n",
        "    string = '@attribute ' + news + i + '{0, 1}' \n",
        "\n",
        "    \n",
        "except OSError:\n",
        "    print('Oops there is an error when opening your file. ',\n",
        "          'Make sure you the file exists in path!')\n"
      ],
      "execution_count": null,
      "outputs": []
    }
  ]
}